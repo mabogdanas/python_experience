{
  "nbformat": 4,
  "nbformat_minor": 0,
  "metadata": {
    "colab": {
      "name": "Python^2_10.ipynb",
      "provenance": [],
      "authorship_tag": "ABX9TyMohF8VhHLo2TyO4n/GVmuN"
    },
    "kernelspec": {
      "name": "python3",
      "display_name": "Python 3"
    }
  },
  "cells": [
    {
      "cell_type": "markdown",
      "metadata": {
        "id": "zLylcREWs_Ja",
        "colab_type": "text"
      },
      "source": [
        "Генераторы"
      ]
    },
    {
      "cell_type": "code",
      "metadata": {
        "id": "6LcRTCHFs3FT",
        "colab_type": "code",
        "outputId": "1368431f-346d-4e36-abdf-27d12be8e1c7",
        "colab": {
          "base_uri": "https://localhost:8080/",
          "height": 85
        }
      },
      "source": [
        "a1 = [i for i in range(50-1,25-1,-2)]\n",
        "print(a1)\n",
        "a2 = [chr(i) for i in range(ord(\"А\"),ord(\"Я\")+1)]\n",
        "print(a2)\n",
        "a3 = [len(e) for e in input(\"Введите строку:\").split()]\n",
        "print(a3)"
      ],
      "execution_count": 0,
      "outputs": [
        {
          "output_type": "stream",
          "text": [
            "[49, 47, 45, 43, 41, 39, 37, 35, 33, 31, 29, 27, 25]\n",
            "['А', 'Б', 'В', 'Г', 'Д', 'Е', 'Ж', 'З', 'И', 'Й', 'К', 'Л', 'М', 'Н', 'О', 'П', 'Р', 'С', 'Т', 'У', 'Ф', 'Х', 'Ц', 'Ч', 'Ш', 'Щ', 'Ъ', 'Ы', 'Ь', 'Э', 'Ю', 'Я']\n",
            "Введите строку:Генераторы\n",
            "[10]\n"
          ],
          "name": "stdout"
        }
      ]
    },
    {
      "cell_type": "code",
      "metadata": {
        "id": "j99dKMhJMEkG",
        "colab_type": "code",
        "outputId": "d888cd37-a323-40b3-c878-59dba9578ffc",
        "colab": {
          "base_uri": "https://localhost:8080/",
          "height": 34
        }
      },
      "source": [
        "def recur(n):\n",
        "  x = n % 10\n",
        "  y = n // 10\n",
        "  if y > 0:\n",
        "    recur(y)\n",
        "  print(x, end = \" \")\n",
        "recur(1234)"
      ],
      "execution_count": 0,
      "outputs": [
        {
          "output_type": "stream",
          "text": [
            "1 2 3 4 "
          ],
          "name": "stdout"
        }
      ]
    },
    {
      "cell_type": "markdown",
      "metadata": {
        "id": "CZ8Q_5qzPpUM",
        "colab_type": "text"
      },
      "source": [
        "h/w 41"
      ]
    },
    {
      "cell_type": "code",
      "metadata": {
        "id": "vC07EIM9MjHx",
        "colab_type": "code",
        "outputId": "0f8f8ba0-4602-47e4-85cf-8856f5ea3a40",
        "colab": {
          "base_uri": "https://localhost:8080/",
          "height": 170
        }
      },
      "source": [
        "def recursion(max, count):\n",
        "  n = int(input(\"Enter the number:\"))\n",
        "  if n != 0:\n",
        "    if n > max:\n",
        "      max = n\n",
        "      count = 1\n",
        "    elif n == max:\n",
        "      count += 1\n",
        "    recursion(max, count)\n",
        "  else:\n",
        "    print(\"max =\", max, \"and it was entered\", count, \"times\")\n",
        "  \n",
        "\n",
        "recursion(0,0)\n"
      ],
      "execution_count": 0,
      "outputs": [
        {
          "output_type": "stream",
          "text": [
            "Enter the number:2\n",
            "Enter the number:3\n",
            "Enter the number:5\n",
            "Enter the number:4\n",
            "Enter the number:5\n",
            "Enter the number:3\n",
            "Enter the number:5\n",
            "Enter the number:0\n",
            "max = 5 and it was entered 3 times\n"
          ],
          "name": "stdout"
        }
      ]
    },
    {
      "cell_type": "markdown",
      "metadata": {
        "id": "mrp4zHHlehrE",
        "colab_type": "text"
      },
      "source": [
        "H/w 42"
      ]
    },
    {
      "cell_type": "code",
      "metadata": {
        "id": "1Fsq9IZ0en6g",
        "colab_type": "code",
        "outputId": "6373d3eb-bad6-491c-8810-a0732b6ad063",
        "colab": {
          "base_uri": "https://localhost:8080/",
          "height": 139
        }
      },
      "source": [
        "a = [[1, 2, 4, 5], [2, 4, 3, 1], [0, 2, 6, 3]]\n",
        "def print_matrix(a):\n",
        "  for row in a:\n",
        "    for elem in row:\n",
        "      print(elem, end = \" \")\n",
        "    print()\n",
        "print_matrix(a)\n",
        "print()\n",
        "max = 0\n",
        "i_max = 0\n",
        "min = 0\n",
        "i_min = 0\n",
        "\n",
        "for i in range(len(a)):\n",
        "  for j in range(len(a[i])):\n",
        "    if a[i][j] > max:\n",
        "      max = a[i][j]\n",
        "      i_max = j\n",
        "    if a[i][j]<min:\n",
        "      min = a[i][j]\n",
        "      i_min = j\n",
        "\n",
        "for i in range(len(a)):\n",
        "  a[i][i_min], a[i][i_max] = a[i][i_max], a[i][i_min]\n",
        "\n",
        "print_matrix(a)"
      ],
      "execution_count": 0,
      "outputs": [
        {
          "output_type": "stream",
          "text": [
            "1 2 4 5 \n",
            "2 4 3 1 \n",
            "0 2 6 3 \n",
            "\n",
            "4 2 1 5 \n",
            "3 4 2 1 \n",
            "6 2 0 3 \n"
          ],
          "name": "stdout"
        }
      ]
    },
    {
      "cell_type": "markdown",
      "metadata": {
        "id": "Pv5H5IaJtEnn",
        "colab_type": "text"
      },
      "source": [
        "h/w 43"
      ]
    },
    {
      "cell_type": "code",
      "metadata": {
        "id": "hn_8XyabtJx9",
        "colab_type": "code",
        "outputId": "5982ef54-e8c7-4f59-ffa6-ffa1e9d6af23",
        "colab": {
          "base_uri": "https://localhost:8080/",
          "height": 173
        }
      },
      "source": [
        "a = [[23, 45, 67, 35, 22], [33, 69, 42, 66, 96], [24, 34, 88, 84, 22], [23, 56, 36, 74, 53]]\n",
        "for row in a:\n",
        "  for elem in row:\n",
        "    print(elem, end = \" \")\n",
        "  print()\n",
        "print()\n",
        "count = 0\n",
        "sum = 0\n",
        "\n",
        "for row in a:\n",
        "  for elem in row:\n",
        "    sum += elem\n",
        "    count +=1\n",
        "avg = sum/count\n",
        "a1 = a\n",
        "\n",
        "for i in range(len(a1)):\n",
        "  for j in range(len(a1[i])):\n",
        "    if a[i][j] < avg:\n",
        "      a[i][j] = 0\n",
        "    else:\n",
        "      a[i][j] = 255\n",
        "for row in a:\n",
        "  for elem in row:\n",
        "    print(elem, end = \" \")\n",
        "  print()"
      ],
      "execution_count": 0,
      "outputs": [
        {
          "output_type": "stream",
          "text": [
            "23 45 67 35 22 \n",
            "33 69 42 66 96 \n",
            "24 34 88 84 22 \n",
            "23 56 36 74 53 \n",
            "\n",
            "0 0 255 0 0 \n",
            "0 255 0 255 255 \n",
            "0 0 255 255 0 \n",
            "0 255 0 255 255 \n"
          ],
          "name": "stdout"
        }
      ]
    },
    {
      "cell_type": "markdown",
      "metadata": {
        "id": "-wi-bpiUvV4N",
        "colab_type": "text"
      },
      "source": [
        "h/w 44"
      ]
    },
    {
      "cell_type": "code",
      "metadata": {
        "id": "qUrtRH66vYoX",
        "colab_type": "code",
        "outputId": "41bcf63a-2240-4971-d29e-7c9d6bb45252",
        "colab": {
          "base_uri": "https://localhost:8080/",
          "height": 156
        }
      },
      "source": [
        "n1 = int(input(\"Enter N1:\"))\n",
        "n2 = int(input(\"Enter N2:\"))\n",
        "d = {}\n",
        "\n",
        "for i in range(n1, n2+1):\n",
        "  for j in str(i):\n",
        "    if j not in d:\n",
        "      d[j] = 1\n",
        "    else:\n",
        "      d[j] += 1\n",
        "\n",
        "for key in d:\n",
        "  print(key, d[key])\n",
        "\n"
      ],
      "execution_count": 0,
      "outputs": [
        {
          "output_type": "stream",
          "text": [
            "Enter N1:18\n",
            "Enter N2:23\n",
            "1 3\n",
            "8 1\n",
            "9 1\n",
            "2 5\n",
            "0 1\n",
            "3 1\n"
          ],
          "name": "stdout"
        }
      ]
    },
    {
      "cell_type": "markdown",
      "metadata": {
        "id": "lKsfEpbm1-E3",
        "colab_type": "text"
      },
      "source": [
        "h/w 45"
      ]
    },
    {
      "cell_type": "code",
      "metadata": {
        "id": "KRv1giNx174B",
        "colab_type": "code",
        "outputId": "c89cd0d4-1354-4ff5-9bda-38011eb69383",
        "colab": {
          "base_uri": "https://localhost:8080/",
          "height": 173
        }
      },
      "source": [
        "t = input(\"Enter the text:\").split()\n",
        "for i in range(len(t)):\n",
        "  t[i] = t[i].lower()\n",
        "\n",
        "words = set(t)\n",
        "dic = {}\n",
        "\n",
        "for word in words:\n",
        "  if word[0] not in dic:\n",
        "    dic[word[0]] = word + \" \"\n",
        "  elif word[0] in dic:\n",
        "    dic[word[0]] += word + \" \"\n",
        "\n",
        "for key in dic:\n",
        "  print(dic[key])"
      ],
      "execution_count": 0,
      "outputs": [
        {
          "output_type": "stream",
          "text": [
            "Enter the text:Ехал Грека через реку видит Грека в реке рак сунул Грека руку в реку рак за руку Греку цап\n",
            "реку рак реке руку \n",
            "за \n",
            "через \n",
            "сунул \n",
            "грека греку \n",
            "в видит \n",
            "ехал \n",
            "цап \n"
          ],
          "name": "stdout"
        }
      ]
    }
  ]
}