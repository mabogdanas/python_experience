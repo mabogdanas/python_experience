{
  "nbformat": 4,
  "nbformat_minor": 0,
  "metadata": {
    "colab": {
      "name": "Python^2_11.ipynb",
      "provenance": [],
      "authorship_tag": "ABX9TyNF0ARnJmt+RkEjGpicqHKk"
    },
    "kernelspec": {
      "name": "python3",
      "display_name": "Python 3"
    }
  },
  "cells": [
    {
      "cell_type": "code",
      "metadata": {
        "id": "_sKxFN3ku94y",
        "colab_type": "code",
        "colab": {}
      },
      "source": [
        "import sys\n",
        "import os\n",
        "from math import sin, cos\n",
        "from pandas import *\n",
        "import pickle"
      ],
      "execution_count": 0,
      "outputs": []
    },
    {
      "cell_type": "code",
      "metadata": {
        "id": "4yvzHi0V_6rB",
        "colab_type": "code",
        "colab": {}
      },
      "source": [
        "def get_numbers():\n",
        "    n = input(\"Enter the numbers:\").split()\n",
        "    print(n)\n",
        "    return [int(e) for e in n]\n",
        "\n",
        "    \n",
        "def print_list(l):\n",
        "    for elem in l:\n",
        "        print(elem, end = \" \")\n",
        "\n",
        "def avg(l):\n",
        "    sum = 0\n",
        "    for elem in l:\n",
        "        sum += elem\n",
        "    print(\"average = \", sum/len(l))\n"
      ],
      "execution_count": 0,
      "outputs": []
    },
    {
      "cell_type": "code",
      "metadata": {
        "id": "NNXFvyFwBnwX",
        "colab_type": "code",
        "outputId": "52737226-f80d-46f9-fd5d-83276939db2e",
        "colab": {
          "base_uri": "https://localhost:8080/",
          "height": 107
        }
      },
      "source": [
        "f = open(\"file.txt\", \"r+\")\n",
        "f.write(\"I want to break free\")\n",
        "print(f.read(6))\n",
        "text = f.read()\n",
        "print(text)\n",
        "print(f.readlines())\n",
        "f.close()\n",
        "for e in open(\"file.txt\"):\n",
        "  print(e)"
      ],
      "execution_count": 0,
      "outputs": [
        {
          "output_type": "stream",
          "text": [
            "I want\n",
            " to break freeI want to break freeI want to break freeI want to break freeI want to break free\n",
            "[]\n",
            "I want to break freeI want to break freeI want to break freeI want to break freeI want to break freeI want to break free\n"
          ],
          "name": "stdout"
        }
      ]
    },
    {
      "cell_type": "code",
      "metadata": {
        "id": "Me5IzwV-FPuI",
        "colab_type": "code",
        "colab": {}
      },
      "source": [
        "f2 = open(\"file2.txt\",\"w\")\n",
        "f2.write(\"City of stars Are you shining just for me \")\n",
        "f2.writelines([\"1\", \"2\", \"3\"])\n",
        "f2.close()"
      ],
      "execution_count": 0,
      "outputs": []
    },
    {
      "cell_type": "code",
      "metadata": {
        "id": "iIv99nCpGPt_",
        "colab_type": "code",
        "outputId": "9c306721-d303-4f06-ddc9-852df50a23c4",
        "colab": {
          "base_uri": "https://localhost:8080/",
          "height": 52
        }
      },
      "source": [
        "ing = open(\"in.txt\", \"w\")\n",
        "ing.write(\"0, 12, 34, 5, 4, 37, 109\")\n",
        "ing.close()\n",
        "\n",
        "ing = open(\"in.txt\", \"r\")\n",
        "text = ing.read()\n",
        "t = text.split(sep = \", \")\n",
        "for i in range(len(t)):\n",
        "  t[i] = int(t[i])\n",
        "ing.close()\n",
        "\n",
        "out = open(\"out.txt\", \"w\")\n",
        "t = sorted(t)\n",
        "print(t)\n",
        "s = str(t)\n",
        "print(s)\n",
        "out.write(s)\n",
        "out.close()"
      ],
      "execution_count": 0,
      "outputs": [
        {
          "output_type": "stream",
          "text": [
            "[0, 4, 5, 12, 34, 37, 109]\n",
            "[0, 4, 5, 12, 34, 37, 109]\n"
          ],
          "name": "stdout"
        }
      ]
    },
    {
      "cell_type": "markdown",
      "metadata": {
        "id": "BBhRS9mURXjH",
        "colab_type": "text"
      },
      "source": [
        "h/w 45"
      ]
    },
    {
      "cell_type": "code",
      "metadata": {
        "id": "XfygU4cUSCn9",
        "colab_type": "code",
        "outputId": "71c96627-535f-4fbb-ca48-f4fd16cb4e6e",
        "colab": {
          "base_uri": "https://localhost:8080/",
          "height": 35
        }
      },
      "source": [
        "def get_numbers():\n",
        "    n = input(\"Enter the numbers:\").split()\n",
        "    try:\n",
        "      return [int(e) for e in n]\n",
        "    except:\n",
        "      print(\"You entered not only numbers\")\n",
        "\n",
        "    \n",
        "def print_list(l):\n",
        "    for elem in l:\n",
        "        print(elem, end = \" \")\n",
        "\n",
        "\n",
        "\n",
        "def reverse(l):\n",
        "  new = [0 for i in range(len(l))]\n",
        "  i = 0\n",
        "  j = 1\n",
        "  while i!= len(l) and j!= len(l)+1:\n",
        "    new[i] = l[-j]\n",
        "    i +=1\n",
        "    j+=1\n",
        "  return new\n",
        "\n",
        "\n",
        "def inc(l):\n",
        "  min = 0\n",
        "  max = 0\n",
        "  new = l\n",
        "  i = 0\n",
        "  for elem in l:\n",
        "    if elem < min:\n",
        "      min = elem\n",
        "      new[0] = min\n",
        "      \n",
        "    else:\n",
        "      min = elem\n",
        "    if elem > max:\n",
        "      max = elem\n",
        "      new[-1]\n",
        "  return new\n",
        "\n",
        "l = [1, 2, 3, 4, 5]\n",
        "reverse(l)\n",
        "inc(l)\n",
        "t = [5, 4, 6, 3, 1]\n",
        "inc(t)\n"
      ],
      "execution_count": 0,
      "outputs": [
        {
          "output_type": "execute_result",
          "data": {
            "text/plain": [
              "[1, 4, 6, 3, 1]"
            ]
          },
          "metadata": {
            "tags": []
          },
          "execution_count": 12
        }
      ]
    }
  ]
}