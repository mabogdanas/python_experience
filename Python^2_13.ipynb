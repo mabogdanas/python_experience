{
  "nbformat": 4,
  "nbformat_minor": 0,
  "metadata": {
    "colab": {
      "name": "Python^2_13.ipynb",
      "provenance": [],
      "authorship_tag": "ABX9TyODdy6NR/lv+YGFuos5YDyn"
    },
    "kernelspec": {
      "name": "python3",
      "display_name": "Python 3"
    }
  },
  "cells": [
    {
      "cell_type": "markdown",
      "metadata": {
        "id": "bS13TjjozpAv",
        "colab_type": "text"
      },
      "source": [
        "exercise 1"
      ]
    },
    {
      "cell_type": "code",
      "metadata": {
        "id": "xgZRDMs_lFY9",
        "colab_type": "code",
        "colab": {
          "base_uri": "https://localhost:8080/",
          "height": 68
        },
        "outputId": "0dd76aff-a868-457d-9757-89d50680ddf9"
      },
      "source": [
        "class FirstClass:\n",
        "  def __init__(self, a = 5, b = 2):\n",
        "    self.first = a\n",
        "    self.second = b\n",
        "  def outPrint(self):\n",
        "    print(self.first, self.second)\n",
        "  def getSum(self):\n",
        "    return self.first + self.second\n",
        "  def getMax(self):\n",
        "    if self.first > self.second:\n",
        "      return self.first\n",
        "    else:\n",
        "      return self.second\n",
        "\n",
        "f = FirstClass(1, 10)\n",
        "f.outPrint()\n",
        "print(f.getSum())\n",
        "print(f.getMax())"
      ],
      "execution_count": 2,
      "outputs": [
        {
          "output_type": "stream",
          "text": [
            "1 10\n",
            "11\n",
            "10\n"
          ],
          "name": "stdout"
        }
      ]
    },
    {
      "cell_type": "code",
      "metadata": {
        "id": "EgbSc8mdBfLn",
        "colab_type": "code",
        "colab": {
          "base_uri": "https://localhost:8080/",
          "height": 255
        },
        "outputId": "088d28e6-dbd6-4f5e-e33c-db76666b8c15"
      },
      "source": [
        "class Robot:\n",
        "  '''Представляет робота с именем'''\n",
        "# Переменная класса, содержащая количество роботов\n",
        "  population = 0\n",
        "  def __init__(self, name):\n",
        "    '''Инициализация данных.'''\n",
        "    self.name = name\n",
        "    print('(Инициализация {0})'.format(self.name))\n",
        "    # При создании этой личности, робот добавляется к переменной \"population\"\n",
        "    Robot.population += 1\n",
        "  def delete(self):\n",
        "    '''Я умираю.'''\n",
        "    print('{0} уничтожается!'.format(self.name))\n",
        "    Robot.population -= 1\n",
        "    if Robot.population == 0:\n",
        "      print('{0} был последним.'.format(self.name))\n",
        "    else:\n",
        "      print('Осталось {0:d} работающих роботов.'.format(Robot.population))\n",
        "  def sayHi(self):\n",
        "      '''Приветствие робота. Да, они это могут.'''\n",
        "      print('Приветствую! Мои хозяева называют меня {0}.'.format(self.name))\n",
        "  @staticmethod\n",
        "  def howMany():\n",
        "    '''Выводит численность роботов'''\n",
        "    print('У нас {0:d} роботов.'.format(Robot.population))\n",
        "\n",
        "droid1 = Robot(\"R2-D2\")\n",
        "droid1.sayHi()\n",
        "Robot.howMany()\n",
        "droid2 = Robot(\"C-3PO\")\n",
        "droid2.sayHi()\n",
        "Robot.howMany()\n",
        "print(\"\\nЗдесь роботы могут проделать какую-то работу.\")\n",
        "print(\"Роботы закончили свою работу. Давайте уничтожим их.\")\n",
        "droid1.delete()\n",
        "droid2.delete()\n",
        "Robot.howMany()"
      ],
      "execution_count": 7,
      "outputs": [
        {
          "output_type": "stream",
          "text": [
            "(Инициализация R2-D2)\n",
            "Приветствую! Мои хозяева называют меня R2-D2.\n",
            "У нас 1 роботов.\n",
            "(Инициализация C-3PO)\n",
            "Приветствую! Мои хозяева называют меня C-3PO.\n",
            "У нас 2 роботов.\n",
            "\n",
            "Здесь роботы могут проделать какую-то работу.\n",
            "Роботы закончили свою работу. Давайте уничтожим их.\n",
            "R2-D2 уничтожается!\n",
            "Осталось 1 работающих роботов.\n",
            "C-3PO уничтожается!\n",
            "C-3PO был последним.\n",
            "У нас 0 роботов.\n"
          ],
          "name": "stdout"
        }
      ]
    },
    {
      "cell_type": "markdown",
      "metadata": {
        "id": "OQRgfIgRALzv",
        "colab_type": "text"
      },
      "source": [
        "exercise 2"
      ]
    },
    {
      "cell_type": "code",
      "metadata": {
        "id": "NoNTUk2ZKvor",
        "colab_type": "code",
        "colab": {
          "base_uri": "https://localhost:8080/",
          "height": 136
        },
        "outputId": "7af8499f-c326-4df9-b31f-db4479eb2e14"
      },
      "source": [
        "class MyClass:\n",
        "  current_number = 1\n",
        "  def __init__(self):\n",
        "    self.count_number = MyClass.current_number\n",
        "    MyClass.current_number += 1\n",
        "    print(\"this is object №{0}\".format(self.count_number))\n",
        "  def __del__(self):\n",
        "    MyClass.current_number -= 1\n",
        "    print(\"object №{0} was deleted\".format(self.count_number))\n",
        "\n",
        "f1 = MyClass()\n",
        "f2 = MyClass()\n",
        "f3 = MyClass()\n",
        "print(MyClass.current_number)\n",
        "\n"
      ],
      "execution_count": 14,
      "outputs": [
        {
          "output_type": "stream",
          "text": [
            "this is object №1\n",
            "object №1 was deleted\n",
            "this is object №1\n",
            "object №1 was deleted\n",
            "this is object №1\n",
            "object №1 was deleted\n",
            "1\n"
          ],
          "name": "stdout"
        }
      ]
    },
    {
      "cell_type": "markdown",
      "metadata": {
        "id": "rPNFSaufPxB7",
        "colab_type": "text"
      },
      "source": [
        "h/w 53"
      ]
    },
    {
      "cell_type": "code",
      "metadata": {
        "id": "EATd5XbsP5tm",
        "colab_type": "code",
        "colab": {
          "base_uri": "https://localhost:8080/",
          "height": 85
        },
        "outputId": "8a43ffa0-16b8-489d-98e8-88c9ddebc9c1"
      },
      "source": [
        "class MyCounter:\n",
        "  number = 1\n",
        "  def __init__(self, n):\n",
        "    self.number = n\n",
        "  def increaseNumber(self):\n",
        "    self.number += 1\n",
        "  def decreaseNumber(self):\n",
        "    self.number -= 1\n",
        "  def getNumber(self):\n",
        "    print(\"current number is\", self.number)\n",
        "\n",
        "\n",
        "ob1 = MyCounter(5)\n",
        "ob1.getNumber()\n",
        "ob1.increaseNumber()\n",
        "ob1.getNumber()\n",
        "ob1.decreaseNumber()\n",
        "ob1.getNumber()\n",
        "print(MyCounter.number)"
      ],
      "execution_count": 22,
      "outputs": [
        {
          "output_type": "stream",
          "text": [
            "current number is 5\n",
            "current number is 6\n",
            "current number is 5\n",
            "1\n"
          ],
          "name": "stdout"
        }
      ]
    },
    {
      "cell_type": "markdown",
      "metadata": {
        "id": "0yibLEeHU1Lu",
        "colab_type": "text"
      },
      "source": [
        "h/w 55"
      ]
    },
    {
      "cell_type": "code",
      "metadata": {
        "id": "Ns2x-YDNU39A",
        "colab_type": "code",
        "colab": {
          "base_uri": "https://localhost:8080/",
          "height": 289
        },
        "outputId": "051eb651-947a-46fc-ed7c-3ddc57c6be11"
      },
      "source": [
        "class Student:\n",
        "  quantity = 0\n",
        "  def __init__(self, name, group, marks):\n",
        "    self.name = name\n",
        "    self.group = group\n",
        "    self.marks = marks\n",
        "    Student.quantity += 1\n",
        "  def averageMark(self):\n",
        "    sum = 0\n",
        "    for i in self.marks:\n",
        "      sum += i \n",
        "    self.avg = sum/len(self.marks)\n",
        "    return self.avg\n",
        "  def getInformation(self):\n",
        "    print(\"This is {0}'s profile:\".format(self.name))\n",
        "    print(\"{0} studies in the {1}th group\".format(self.name, self.group))\n",
        "    print(\"{0}'s GPA is {1}\".format(self.name, self.avg))\n",
        "  \n",
        "group_list = []\n",
        "while True:\n",
        "  name = input(\"Enter the student's name:\")\n",
        "  if name == \"end\":\n",
        "    break\n",
        "  group = input(\"Enter the group number:\")\n",
        "  marks = [int(i) for i in input(\"Enter the student's marks:\").split()]\n",
        "  student = Student(name, group, marks)\n",
        "  group_list.append(student)\n",
        "\n",
        "GPAs = dict()\n",
        "for student in group_list:\n",
        "  GPAs[student.averageMark()]  = student.name\n",
        "\n",
        "\n",
        "for key in sorted(GPAs, reverse=True): \n",
        "  print(key, GPAs[key])\n",
        "\n",
        "student.getInformation()\n",
        "  "
      ],
      "execution_count": 32,
      "outputs": [
        {
          "output_type": "stream",
          "text": [
            "Enter the student's name:Bogdanas\n",
            "Enter the group number:173\n",
            "Enter the student's marks:5 5 4 5\n",
            "Enter the student's name:Perfilova\n",
            "Enter the group number:173\n",
            "Enter the student's marks:4 4 5 4\n",
            "Enter the student's name:Muhina\n",
            "Enter the group number:173\n",
            "Enter the student's marks:5 4 5 4\n",
            "Enter the student's name:end\n",
            "4.75 Bogdanas\n",
            "4.5 Muhina\n",
            "4.25 Perfilova\n",
            "This is Muhina's profile:\n",
            "Muhina studies in the 173th group\n",
            "Muhina's GPA is 4.5\n"
          ],
          "name": "stdout"
        }
      ]
    }
  ]
}