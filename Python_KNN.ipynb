{
  "nbformat": 4,
  "nbformat_minor": 0,
  "metadata": {
    "colab": {
      "name": "Basic_Python_and_KNN.ipynb",
      "provenance": [],
      "collapsed_sections": []
    },
    "kernelspec": {
      "name": "python3",
      "display_name": "Python 3"
    }
  },
  "cells": [
    {
      "cell_type": "markdown",
      "metadata": {
        "id": "FeNr8OQ-RmK5",
        "colab_type": "text"
      },
      "source": [
        
      ]
    },
    {
      "cell_type": "code",
      "metadata": {
        "id": "58x2k78MRl9Q",
        "colab_type": "code",
        "colab": {}
      },
      "source": [
        "import pandas as pd\n",
        "prCancer = pd.read_csv(\"https://github.com/AVSirotkin/data_for_classes/raw/master/Prostate_Cancer.csv\")"
      ],
      "execution_count": 0,
      "outputs": []
    },
    {
      "cell_type": "code",
      "metadata": {
        "id": "-Mj1LGAnV7fo",
        "colab_type": "code",
        "outputId": "7341715d-f881-4ad8-9873-d9b3747a05b6",
        "colab": {
          "base_uri": "https://localhost:8080/",
          "height": 224
        }
      },
      "source": [
        "prCancer.head()"
      ],
      "execution_count": 0,
      "outputs": [
        {
          "output_type": "execute_result",
          "data": {
            "text/html": [
              "<div>\n",
              "<style scoped>\n",
              "    .dataframe tbody tr th:only-of-type {\n",
              "        vertical-align: middle;\n",
              "    }\n",
              "\n",
              "    .dataframe tbody tr th {\n",
              "        vertical-align: top;\n",
              "    }\n",
              "\n",
              "    .dataframe thead th {\n",
              "        text-align: right;\n",
              "    }\n",
              "</style>\n",
              "<table border=\"1\" class=\"dataframe\">\n",
              "  <thead>\n",
              "    <tr style=\"text-align: right;\">\n",
              "      <th></th>\n",
              "      <th>id</th>\n",
              "      <th>diagnosis_result</th>\n",
              "      <th>radius</th>\n",
              "      <th>texture</th>\n",
              "      <th>perimeter</th>\n",
              "      <th>area</th>\n",
              "      <th>smoothness</th>\n",
              "      <th>compactness</th>\n",
              "      <th>symmetry</th>\n",
              "      <th>fractal_dimension</th>\n",
              "    </tr>\n",
              "  </thead>\n",
              "  <tbody>\n",
              "    <tr>\n",
              "      <th>0</th>\n",
              "      <td>1</td>\n",
              "      <td>M</td>\n",
              "      <td>23</td>\n",
              "      <td>12</td>\n",
              "      <td>151</td>\n",
              "      <td>954</td>\n",
              "      <td>0.143</td>\n",
              "      <td>0.278</td>\n",
              "      <td>0.242</td>\n",
              "      <td>0.079</td>\n",
              "    </tr>\n",
              "    <tr>\n",
              "      <th>1</th>\n",
              "      <td>2</td>\n",
              "      <td>B</td>\n",
              "      <td>9</td>\n",
              "      <td>13</td>\n",
              "      <td>133</td>\n",
              "      <td>1326</td>\n",
              "      <td>0.143</td>\n",
              "      <td>0.079</td>\n",
              "      <td>0.181</td>\n",
              "      <td>0.057</td>\n",
              "    </tr>\n",
              "    <tr>\n",
              "      <th>2</th>\n",
              "      <td>3</td>\n",
              "      <td>M</td>\n",
              "      <td>21</td>\n",
              "      <td>27</td>\n",
              "      <td>130</td>\n",
              "      <td>1203</td>\n",
              "      <td>0.125</td>\n",
              "      <td>0.160</td>\n",
              "      <td>0.207</td>\n",
              "      <td>0.060</td>\n",
              "    </tr>\n",
              "    <tr>\n",
              "      <th>3</th>\n",
              "      <td>4</td>\n",
              "      <td>M</td>\n",
              "      <td>14</td>\n",
              "      <td>16</td>\n",
              "      <td>78</td>\n",
              "      <td>386</td>\n",
              "      <td>0.070</td>\n",
              "      <td>0.284</td>\n",
              "      <td>0.260</td>\n",
              "      <td>0.097</td>\n",
              "    </tr>\n",
              "    <tr>\n",
              "      <th>4</th>\n",
              "      <td>5</td>\n",
              "      <td>M</td>\n",
              "      <td>9</td>\n",
              "      <td>19</td>\n",
              "      <td>135</td>\n",
              "      <td>1297</td>\n",
              "      <td>0.141</td>\n",
              "      <td>0.133</td>\n",
              "      <td>0.181</td>\n",
              "      <td>0.059</td>\n",
              "    </tr>\n",
              "  </tbody>\n",
              "</table>\n",
              "</div>"
            ],
            "text/plain": [
              "   id diagnosis_result  radius  ...  compactness  symmetry  fractal_dimension\n",
              "0   1                M      23  ...        0.278     0.242              0.079\n",
              "1   2                B       9  ...        0.079     0.181              0.057\n",
              "2   3                M      21  ...        0.160     0.207              0.060\n",
              "3   4                M      14  ...        0.284     0.260              0.097\n",
              "4   5                M       9  ...        0.133     0.181              0.059\n",
              "\n",
              "[5 rows x 10 columns]"
            ]
          },
          "metadata": {
            "tags": []
          },
          "execution_count": 10
        }
      ]
    },
    {
      "cell_type": "markdown",
      "metadata": {
        "id": "ddbcFSAySy56",
        "colab_type": "text"
      },
      "source": [
        "Создадим тестовую и обучающую выборки."
      ]
    },
    {
      "cell_type": "markdown",
      "metadata": {
        "id": "zz-aK4a2Sy3z",
        "colab_type": "text"
      },
      "source": [
        ""
      ]
    },
    {
      "cell_type": "code",
      "metadata": {
        "id": "UQJzpFJvRlvc",
        "colab_type": "code",
        "colab": {}
      },
      "source": [
        "import random\n",
        "random.seed(3)\n",
        "pc_test_ind = random.sample(range(len(prCancer)), k = int(len(prCancer)*0.3))\n",
        "pc_test = prCancer.iloc[pc_test_ind]\n",
        "pc_main = prCancer.iloc[[x for x in range(len(prCancer)) if not x in pc_test_ind]]"
      ],
      "execution_count": 0,
      "outputs": []
    },
    {
      "cell_type": "code",
      "metadata": {
        "id": "Gfsyh4WBRltk",
        "colab_type": "code",
        "outputId": "d828b460-1d4e-437c-eed6-7efad926dcd3",
        "colab": {
          "base_uri": "https://localhost:8080/",
          "height": 586
        }
      },
      "source": [
        "from plotnine import *\n",
        "(ggplot(prCancer)\n",
        " + aes(x='perimeter', y = 'symmetry', color = 'diagnosis_result')\n",
        " + geom_point()\n",
        ")"
      ],
      "execution_count": 0,
      "outputs": [
        {
          "output_type": "stream",
          "text": [
            "/usr/local/lib/python3.6/dist-packages/plotnine/scales/scale.py:93: MatplotlibDeprecationWarning: \n",
            "The iterable function was deprecated in Matplotlib 3.1 and will be removed in 3.3. Use np.iterable instead.\n",
            "  if cbook.iterable(self.breaks) and cbook.iterable(self.labels):\n",
            "/usr/local/lib/python3.6/dist-packages/plotnine/utils.py:553: MatplotlibDeprecationWarning: \n",
            "The iterable function was deprecated in Matplotlib 3.1 and will be removed in 3.3. Use np.iterable instead.\n",
            "  return cbook.iterable(var) and not is_string(var)\n"
          ],
          "name": "stderr"
        },
        {
          "output_type": "display_data",
          "data": {
            "image/png": "[encoded data removed]",
            "text/plain": [
              "<Figure size 640x480 with 1 Axes>"
            ]
          },
          "metadata": {
            "tags": []
          }
        },
        {
          "output_type": "execute_result",
          "data": {
            "text/plain": [
              "<ggplot: (-9223363306467303841)>"
            ]
          },
          "metadata": {
            "tags": []
          },
          "execution_count": 13
        }
      ]
    },
    {
      "cell_type": "code",
      "metadata": {
        "id": "KBdtEZe7Rlky",
        "colab_type": "code",
        "colab": {}
      },
      "source": [
        "data_main = pc_main[[\"diagnosis_result\", \"perimeter\", \"symmetry\"]]\n",
        "data_test = pc_test[[\"diagnosis_result\", \"perimeter\", \"symmetry\"]]"
      ],
      "execution_count": 0,
      "outputs": []
    },
    {
      "cell_type": "code",
      "metadata": {
        "id": "iYKuDj8sge73",
        "colab_type": "code",
        "outputId": "142a2a34-2bf9-4bce-ce5a-ab3d9bec3813",
        "colab": {
          "base_uri": "https://localhost:8080/",
          "height": 68
        }
      },
      "source": [
        "from sklearn.neighbors import KNeighborsClassifier\n",
        "\n",
        "knn = KNeighborsClassifier(n_neighbors=1, metric='euclidean')\n",
        "knn.fit(data_main[[\"perimeter\", \"symmetry\"]], data_main[\"diagnosis_result\"])"
      ],
      "execution_count": 0,
      "outputs": [
        {
          "output_type": "execute_result",
          "data": {
            "text/plain": [
              "KNeighborsClassifier(algorithm='auto', leaf_size=30, metric='euclidean',\n",
              "                     metric_params=None, n_jobs=None, n_neighbors=1, p=2,\n",
              "                     weights='uniform')"
            ]
          },
          "metadata": {
            "tags": []
          },
          "execution_count": 15
        }
      ]
    },
    {
      "cell_type": "code",
      "metadata": {
        "id": "4s36UnpPgfA7",
        "colab_type": "code",
        "outputId": "e69d2d73-db23-4ad2-a219-e9ceb9c72e05",
        "colab": {
          "base_uri": "https://localhost:8080/",
          "height": 979
        }
      },
      "source": [
        "test_predict = knn.predict(data_test[[\"perimeter\", \"symmetry\"]])\n",
        "test_predict\n",
        "data_test[[\"perimeter\", \"symmetry\"]]"
      ],
      "execution_count": 0,
      "outputs": [
        {
          "output_type": "execute_result",
          "data": {
            "text/html": [
              "<div>\n",
              "<style scoped>\n",
              "    .dataframe tbody tr th:only-of-type {\n",
              "        vertical-align: middle;\n",
              "    }\n",
              "\n",
              "    .dataframe tbody tr th {\n",
              "        vertical-align: top;\n",
              "    }\n",
              "\n",
              "    .dataframe thead th {\n",
              "        text-align: right;\n",
              "    }\n",
              "</style>\n",
              "<table border=\"1\" class=\"dataframe\">\n",
              "  <thead>\n",
              "    <tr style=\"text-align: right;\">\n",
              "      <th></th>\n",
              "      <th>perimeter</th>\n",
              "      <th>symmetry</th>\n",
              "    </tr>\n",
              "  </thead>\n",
              "  <tbody>\n",
              "    <tr>\n",
              "      <th>30</th>\n",
              "      <td>125</td>\n",
              "      <td>0.218</td>\n",
              "    </tr>\n",
              "    <tr>\n",
              "      <th>75</th>\n",
              "      <td>104</td>\n",
              "      <td>0.180</td>\n",
              "    </tr>\n",
              "    <tr>\n",
              "      <th>69</th>\n",
              "      <td>81</td>\n",
              "      <td>0.159</td>\n",
              "    </tr>\n",
              "    <tr>\n",
              "      <th>16</th>\n",
              "      <td>95</td>\n",
              "      <td>0.159</td>\n",
              "    </tr>\n",
              "    <tr>\n",
              "      <th>47</th>\n",
              "      <td>86</td>\n",
              "      <td>0.213</td>\n",
              "    </tr>\n",
              "    <tr>\n",
              "      <th>77</th>\n",
              "      <td>120</td>\n",
              "      <td>0.215</td>\n",
              "    </tr>\n",
              "    <tr>\n",
              "      <th>60</th>\n",
              "      <td>65</td>\n",
              "      <td>0.274</td>\n",
              "    </tr>\n",
              "    <tr>\n",
              "      <th>80</th>\n",
              "      <td>74</td>\n",
              "      <td>0.184</td>\n",
              "    </tr>\n",
              "    <tr>\n",
              "      <th>74</th>\n",
              "      <td>79</td>\n",
              "      <td>0.172</td>\n",
              "    </tr>\n",
              "    <tr>\n",
              "      <th>8</th>\n",
              "      <td>88</td>\n",
              "      <td>0.235</td>\n",
              "    </tr>\n",
              "    <tr>\n",
              "      <th>94</th>\n",
              "      <td>100</td>\n",
              "      <td>0.186</td>\n",
              "    </tr>\n",
              "    <tr>\n",
              "      <th>1</th>\n",
              "      <td>133</td>\n",
              "      <td>0.181</td>\n",
              "    </tr>\n",
              "    <tr>\n",
              "      <th>93</th>\n",
              "      <td>87</td>\n",
              "      <td>0.164</td>\n",
              "    </tr>\n",
              "    <tr>\n",
              "      <th>33</th>\n",
              "      <td>128</td>\n",
              "      <td>0.185</td>\n",
              "    </tr>\n",
              "    <tr>\n",
              "      <th>70</th>\n",
              "      <td>124</td>\n",
              "      <td>0.158</td>\n",
              "    </tr>\n",
              "    <tr>\n",
              "      <th>29</th>\n",
              "      <td>115</td>\n",
              "      <td>0.174</td>\n",
              "    </tr>\n",
              "    <tr>\n",
              "      <th>24</th>\n",
              "      <td>110</td>\n",
              "      <td>0.200</td>\n",
              "    </tr>\n",
              "    <tr>\n",
              "      <th>87</th>\n",
              "      <td>122</td>\n",
              "      <td>0.195</td>\n",
              "    </tr>\n",
              "    <tr>\n",
              "      <th>97</th>\n",
              "      <td>62</td>\n",
              "      <td>0.135</td>\n",
              "    </tr>\n",
              "    <tr>\n",
              "      <th>85</th>\n",
              "      <td>121</td>\n",
              "      <td>0.213</td>\n",
              "    </tr>\n",
              "    <tr>\n",
              "      <th>82</th>\n",
              "      <td>172</td>\n",
              "      <td>0.183</td>\n",
              "    </tr>\n",
              "    <tr>\n",
              "      <th>50</th>\n",
              "      <td>75</td>\n",
              "      <td>0.150</td>\n",
              "    </tr>\n",
              "    <tr>\n",
              "      <th>19</th>\n",
              "      <td>87</td>\n",
              "      <td>0.189</td>\n",
              "    </tr>\n",
              "    <tr>\n",
              "      <th>84</th>\n",
              "      <td>77</td>\n",
              "      <td>0.208</td>\n",
              "    </tr>\n",
              "    <tr>\n",
              "      <th>89</th>\n",
              "      <td>96</td>\n",
              "      <td>0.212</td>\n",
              "    </tr>\n",
              "    <tr>\n",
              "      <th>66</th>\n",
              "      <td>60</td>\n",
              "      <td>0.172</td>\n",
              "    </tr>\n",
              "    <tr>\n",
              "      <th>49</th>\n",
              "      <td>87</td>\n",
              "      <td>0.181</td>\n",
              "    </tr>\n",
              "    <tr>\n",
              "      <th>88</th>\n",
              "      <td>80</td>\n",
              "      <td>0.193</td>\n",
              "    </tr>\n",
              "    <tr>\n",
              "      <th>90</th>\n",
              "      <td>95</td>\n",
              "      <td>0.169</td>\n",
              "    </tr>\n",
              "    <tr>\n",
              "      <th>20</th>\n",
              "      <td>86</td>\n",
              "      <td>0.197</td>\n",
              "    </tr>\n",
              "  </tbody>\n",
              "</table>\n",
              "</div>"
            ],
            "text/plain": [
              "    perimeter  symmetry\n",
              "30        125     0.218\n",
              "75        104     0.180\n",
              "69         81     0.159\n",
              "16         95     0.159\n",
              "47         86     0.213\n",
              "77        120     0.215\n",
              "60         65     0.274\n",
              "80         74     0.184\n",
              "74         79     0.172\n",
              "8          88     0.235\n",
              "94        100     0.186\n",
              "1         133     0.181\n",
              "93         87     0.164\n",
              "33        128     0.185\n",
              "70        124     0.158\n",
              "29        115     0.174\n",
              "24        110     0.200\n",
              "87        122     0.195\n",
              "97         62     0.135\n",
              "85        121     0.213\n",
              "82        172     0.183\n",
              "50         75     0.150\n",
              "19         87     0.189\n",
              "84         77     0.208\n",
              "89         96     0.212\n",
              "66         60     0.172\n",
              "49         87     0.181\n",
              "88         80     0.193\n",
              "90         95     0.169\n",
              "20         86     0.197"
            ]
          },
          "metadata": {
            "tags": []
          },
          "execution_count": 16
        }
      ]
    },
    {
      "cell_type": "code",
      "metadata": {
        "id": "IfgIItxFgfFE",
        "colab_type": "code",
        "outputId": "e3c2da7b-f2c8-4da7-c107-83de1ae01461",
        "colab": {
          "base_uri": "https://localhost:8080/",
          "height": 34
        }
      },
      "source": [
        "import sklearn\n",
        "sklearn.metrics.confusion_matrix(data_test['diagnosis_result'], test_predict)\n",
        "sklearn.metrics.accuracy_score(data_test['diagnosis_result'], test_predict)\n"
      ],
      "execution_count": 0,
      "outputs": [
        {
          "output_type": "execute_result",
          "data": {
            "text/plain": [
              "0.7666666666666667"
            ]
          },
          "metadata": {
            "tags": []
          },
          "execution_count": 20
        }
      ]
    },
    {
      "cell_type": "markdown",
      "metadata": {
        "id": "O-4fkWsVnsBN",
        "colab_type": "text"
      },
      "source": [
        "Попробуем повторить картинку с границами."
      ]
    },
    {
      "cell_type": "code",
      "metadata": {
        "id": "N_7FIPWCnsRW",
        "colab_type": "code",
        "outputId": "574afc0b-9a43-45ec-cb04-72eb6acb75bc",
        "colab": {
          "base_uri": "https://localhost:8080/",
          "height": 319
        }
      },
      "source": [
        "import numpy as np\n",
        "import matplotlib.pyplot as plt\n",
        "\n",
        "def plot_boundaries(model, X, y):\n",
        "    x_min, x_max = X.iloc[:, 0].min() - .1, X.iloc[:, 0].max() + .1\n",
        "    y_min, y_max = X.iloc[:, 1].min() - .1, X.iloc[:, 1].max() + .1\n",
        "    xx, yy = np.meshgrid(np.arange(x_min, x_max, 0.1),\n",
        "                        np.arange(y_min, y_max, 0.1))\n",
        "\n",
        "    plt.figure()\n",
        "#    print(xx.ravel())\n",
        "    Z = model.predict(np.c_[xx.ravel(), yy.ravel()])\n",
        "    Z = Z.reshape(xx.shape)\n",
        "#    print(Z)\n",
        "    plt.contourf(xx, yy, Z == \"B\", [0, 0.5, 1], alpha=0.4)\n",
        "    plt.scatter(X.iloc[:, 0], X.iloc[:, 1], c=y, s=20, edgecolor='k')\n",
        "#    plt.set_title(tt)\n",
        "\n",
        "    plt.show()\n",
        "\n",
        "plot_boundaries(knn, prCancer[[\"perimeter\", \"symmetry\"]], prCancer[\"diagnosis_result\"])"
      ],
      "execution_count": 0,
      "outputs": [
        {
          "output_type": "stream",
          "text": [
            "/usr/local/lib/python3.6/dist-packages/ipykernel_launcher.py:16: MatplotlibDeprecationWarning: Support for uppercase single-letter colors is deprecated since Matplotlib 3.1 and will be removed in 3.3; please use lowercase instead.\n",
            "  app.launch_new_instance()\n"
          ],
          "name": "stderr"
        },
        {
          "output_type": "display_data",
          "data": {
            "image/png": "[encoded data removed]",
            "text/plain": [
              "<Figure size 432x288 with 1 Axes>"
            ]
          },
          "metadata": {
            "tags": []
          }
        }
      ]
    },
    {
      "cell_type": "code",
      "metadata": {
        "id": "dtQZdgdGuYJM",
        "colab_type": "code",
        "outputId": "6cdd6380-744e-4ae9-97fc-bdb34e60ce2a",
        "colab": {
          "base_uri": "https://localhost:8080/",
          "height": 34
        }
      },
      "source": [
        "knn.predict([[1, 1]])"
      ],
      "execution_count": 0,
      "outputs": [
        {
          "output_type": "execute_result",
          "data": {
            "text/plain": [
              "array(['B'], dtype=object)"
            ]
          },
          "metadata": {
            "tags": []
          },
          "execution_count": 21
        }
      ]
    },
    {
      "cell_type": "code",
      "metadata": {
        "id": "TEWI7hXtgfJo",
        "colab_type": "code",
        "outputId": "a98117a6-fd72-431d-8187-d53923203aa0",
        "colab": {
          "base_uri": "https://localhost:8080/",
          "height": 34
        }
      },
      "source": [
        "sklearn.metrics.accuracy_score(data_test['diagnosis_result'], test_predict)"
      ],
      "execution_count": 0,
      "outputs": [
        {
          "output_type": "execute_result",
          "data": {
            "text/plain": [
              "0.7666666666666667"
            ]
          },
          "metadata": {
            "tags": []
          },
          "execution_count": 22
        }
      ]
    },
    {
      "cell_type": "code",
      "metadata": {
        "id": "-erCBaRDgfNQ",
        "colab_type": "code",
        "outputId": "2f31b3bf-664b-4caf-b17e-1687efc3a704",
        "colab": {
          "base_uri": "https://localhost:8080/",
          "height": 265
        }
      },
      "source": [
        "knn3 = KNeighborsClassifier(n_neighbors=3, metric='euclidean')\n",
        "knn3.fit(data_main[[\"perimeter\", \"symmetry\"]], data_main[\"diagnosis_result\"])\n",
        "plot_boundaries(knn3, prCancer[[\"perimeter\", \"symmetry\"]], prCancer[\"diagnosis_result\"])"
      ],
      "execution_count": 0,
      "outputs": [
        {
          "output_type": "display_data",
          "data": {
            "image/png": "[encoded data removed]",
            "text/plain": [
              "<Figure size 432x288 with 1 Axes>"
            ]
          },
          "metadata": {
            "tags": []
          }
        }
      ]
    },
    {
      "cell_type": "code",
      "metadata": {
        "id": "aP2xd-6ige-_",
        "colab_type": "code",
        "outputId": "a8560bbf-1c62-48e1-b072-9c263df58c63",
        "colab": {
          "base_uri": "https://localhost:8080/",
          "height": 51
        }
      },
      "source": [
        "test_predict = knn3.predict(data_test[[\"perimeter\", \"symmetry\"]])\n",
        "sklearn.metrics.confusion_matrix(data_test['diagnosis_result'], test_predict)"
      ],
      "execution_count": 0,
      "outputs": [
        {
          "output_type": "execute_result",
          "data": {
            "text/plain": [
              "array([[10,  6],\n",
              "       [ 0, 14]])"
            ]
          },
          "metadata": {
            "tags": []
          },
          "execution_count": 24
        }
      ]
    },
    {
      "cell_type": "code",
      "metadata": {
        "id": "Snr0rMflge51",
        "colab_type": "code",
        "outputId": "7b924f13-6899-4322-a2f4-67765b2091a9",
        "colab": {
          "base_uri": "https://localhost:8080/",
          "height": 34
        }
      },
      "source": [
        "sklearn.metrics.accuracy_score(data_test['diagnosis_result'], test_predict)"
      ],
      "execution_count": 0,
      "outputs": [
        {
          "output_type": "execute_result",
          "data": {
            "text/plain": [
              "0.8"
            ]
          },
          "metadata": {
            "tags": []
          },
          "execution_count": 25
        }
      ]
    },
    {
      "cell_type": "markdown",
      "metadata": {
        "id": "PRjduFqxkChQ",
        "colab_type": "text"
      },
      "source": [
        "Пока мы смогли повторить все что было в R. Поговорим о нормализации."
      ]
    },
    {
      "cell_type": "code",
      "metadata": {
        "id": "XTeDb_4Uge2C",
        "colab_type": "code",
        "colab": {}
      },
      "source": [
        "Пока мы смогли повторить все что было в R. Поговорим о нормализации."
      ],
      "execution_count": 0,
      "outputs": []
    },
    {
      "cell_type": "code",
      "metadata": {
        "id": "yssgX4BwkRVL",
        "colab_type": "code",
        "outputId": "1587f7ae-1a05-464b-eba7-f8601351b275",
        "colab": {
          "base_uri": "https://localhost:8080/",
          "height": 170
        }
      },
      "source": [
        "print(prCancer.perimeter.describe())\n",
        " "
      ],
      "execution_count": 0,
      "outputs": [
        {
          "output_type": "stream",
          "text": [
            "count    100.000000\n",
            "mean      96.780000\n",
            "std       23.676089\n",
            "min       52.000000\n",
            "25%       82.500000\n",
            "50%       94.000000\n",
            "75%      114.250000\n",
            "max      172.000000\n",
            "Name: perimeter, dtype: float64\n"
          ],
          "name": "stdout"
        }
      ]
    },
    {
      "cell_type": "code",
      "metadata": {
        "id": "znWztEz-kRbi",
        "colab_type": "code",
        "outputId": "dc551b67-5ee3-426a-d972-0d8e8a765845",
        "colab": {
          "base_uri": "https://localhost:8080/",
          "height": 170
        }
      },
      "source": [
        "print(prCancer.symmetry.describe())"
      ],
      "execution_count": 0,
      "outputs": [
        {
          "output_type": "stream",
          "text": [
            "count    100.000000\n",
            "mean       0.193170\n",
            "std        0.030785\n",
            "min        0.135000\n",
            "25%        0.172000\n",
            "50%        0.190000\n",
            "75%        0.209000\n",
            "max        0.304000\n",
            "Name: symmetry, dtype: float64\n"
          ],
          "name": "stdout"
        }
      ]
    },
    {
      "cell_type": "code",
      "metadata": {
        "id": "f7DkCNCekRhT",
        "colab_type": "code",
        "colab": {}
      },
      "source": [
        "smin = min(prCancer.symmetry)\n",
        "pmin = min(prCancer.perimeter)\n",
        "smax = max(prCancer.symmetry)\n",
        "pmax = max(prCancer.perimeter)\n",
        "prCancer.symmetry = (prCancer.symmetry - smin)/(smax-smin)\n",
        "prCancer.perimeter = (prCancer.perimeter - pmin)/(pmax-pmin)"
      ],
      "execution_count": 0,
      "outputs": []
    },
    {
      "cell_type": "code",
      "metadata": {
        "id": "gFVBKQt3kRka",
        "colab_type": "code",
        "colab": {}
      },
      "source": [
        "pc_test = prCancer.iloc[pc_test_ind]\n",
        "pc_main = prCancer.iloc[[x for x in range(len(prCancer)) if not x in pc_test_ind]]\n",
        "data_main = pc_main[[\"diagnosis_result\", \"perimeter\", \"symmetry\"]]\n",
        "data_test = pc_test[[\"diagnosis_result\", \"perimeter\", \"symmetry\"]]"
      ],
      "execution_count": 0,
      "outputs": []
    },
    {
      "cell_type": "code",
      "metadata": {
        "id": "77VHy1F7kRn7",
        "colab_type": "code",
        "outputId": "863a8ad8-d4b0-4a69-830e-fda044c49d2f",
        "colab": {
          "base_uri": "https://localhost:8080/",
          "height": 586
        }
      },
      "source": [
        "ggplot(prCancer) + aes(color = 'diagnosis_result') + geom_point(aes(x='perimeter', y = 'symmetry'))"
      ],
      "execution_count": 0,
      "outputs": [
        {
          "output_type": "stream",
          "text": [
            "/usr/local/lib/python3.6/dist-packages/plotnine/scales/scale.py:93: MatplotlibDeprecationWarning: \n",
            "The iterable function was deprecated in Matplotlib 3.1 and will be removed in 3.3. Use np.iterable instead.\n",
            "  if cbook.iterable(self.breaks) and cbook.iterable(self.labels):\n",
            "/usr/local/lib/python3.6/dist-packages/plotnine/utils.py:553: MatplotlibDeprecationWarning: \n",
            "The iterable function was deprecated in Matplotlib 3.1 and will be removed in 3.3. Use np.iterable instead.\n",
            "  return cbook.iterable(var) and not is_string(var)\n"
          ],
          "name": "stderr"
        },
        {
          "output_type": "display_data",
          "data": {
            "image/png": "[encoded data removed]",
            "text/plain": [
              "<Figure size 640x480 with 1 Axes>"
            ]
          },
          "metadata": {
            "tags": []
          }
        },
        {
          "output_type": "execute_result",
          "data": {
            "text/plain": [
              "<ggplot: (-9223363306437450801)>"
            ]
          },
          "metadata": {
            "tags": []
          },
          "execution_count": 30
        }
      ]
    },
    {
      "cell_type": "code",
      "metadata": {
        "id": "LE-sXN_mwgrP",
        "colab_type": "code",
        "outputId": "fb87fe88-d7a8-4e5e-e24e-a8dd8b4eb1da",
        "colab": {
          "base_uri": "https://localhost:8080/",
          "height": 265
        }
      },
      "source": [
        "knn3_norm = KNeighborsClassifier(n_neighbors=3, metric='euclidean')\n",
        "knn3_norm.fit(data_main[[\"perimeter\", \"symmetry\"]], data_main[\"diagnosis_result\"])\n",
        "plot_boundaries(knn3_norm, prCancer[[\"perimeter\", \"symmetry\"]], prCancer[\"diagnosis_result\"])"
      ],
      "execution_count": 0,
      "outputs": [
        {
          "output_type": "display_data",
          "data": {
            "image/png": "[encoded data removed]",
            "text/plain": [
              "<Figure size 432x288 with 1 Axes>"
            ]
          },
          "metadata": {
            "tags": []
          }
        }
      ]
    },
    {
      "cell_type": "code",
      "metadata": {
        "id": "9FriyG59wgvP",
        "colab_type": "code",
        "outputId": "e0ade08c-090f-4137-d9ff-138d3dc30049",
        "colab": {
          "base_uri": "https://localhost:8080/",
          "height": 34
        }
      },
      "source": [
        "knn3_norm.predict([[0,0], [1, 1]])"
      ],
      "execution_count": 0,
      "outputs": [
        {
          "output_type": "execute_result",
          "data": {
            "text/plain": [
              "array(['B', 'M'], dtype=object)"
            ]
          },
          "metadata": {
            "tags": []
          },
          "execution_count": 32
        }
      ]
    },
    {
      "cell_type": "code",
      "metadata": {
        "id": "BN8G7CtXyNiH",
        "colab_type": "code",
        "outputId": "15a368f2-cab5-45a7-a784-3533b579fda8",
        "colab": {
          "base_uri": "https://localhost:8080/",
          "height": 34
        }
      },
      "source": [
        "test_predict = knn3_norm.predict(data_test[[\"perimeter\", \"symmetry\"]])\n",
        "sklearn.metrics.confusion_matrix(data_test['diagnosis_result'], test_predict)\n",
        "sklearn.metrics.accuracy_score(data_test['diagnosis_result'], test_predict)"
      ],
      "execution_count": 0,
      "outputs": [
        {
          "output_type": "execute_result",
          "data": {
            "text/plain": [
              "0.7666666666666667"
            ]
          },
          "metadata": {
            "tags": []
          },
          "execution_count": 36
        }
      ]
    }
  ]
}
