{
  "nbformat": 4,
  "nbformat_minor": 0,
  "metadata": {
    "colab": {
      "name": "Python²_7.ipynb",
      "provenance": [],
      "authorship_tag": "ABX9TyNfBIgIaeOvEm9R9Geicewn"
    },
    "kernelspec": {
      "name": "python3",
      "display_name": "Python 3"
    }
  },
  "cells": [
    {
      "cell_type": "markdown",
      "metadata": {
        "id": "1Evwb6L0pR6A",
        "colab_type": "text"
      },
      "source": [
        "h/w №26"
      ]
    },
    {
      "cell_type": "code",
      "metadata": {
        "id": "fVsTocp0oqFp",
        "colab_type": "code",
        "outputId": "3bcd87f4-885b-4eb0-952d-9259d4f0478b",
        "colab": {
          "base_uri": "https://localhost:8080/",
          "height": 69
        }
      },
      "source": [
        "def palindrome(s):\n",
        "  if s[0] == s[-1]:\n",
        "    res = 'this is a palindrome'\n",
        "  else:\n",
        "    res = 'this is not a palindrome'\n",
        "    return print(res)\n",
        "  if len(s) <= 2:\n",
        "    return print(res)\n",
        "  return palindrome(s[1:-1])\n",
        "\n",
        "s = \"absba\"\n",
        "palindrome(s)\n",
        "\n",
        "d = \"asdfg\"\n",
        "palindrome(d)\n",
        "\n",
        "f = \"12321\"\n",
        "palindrome(f)"
      ],
      "execution_count": 0,
      "outputs": [
        {
          "output_type": "stream",
          "text": [
            "this is not a palindrome\n",
            "this is not a palindrome\n",
            "this is a palindrome\n"
          ],
          "name": "stdout"
        }
      ]
    },
    {
      "cell_type": "markdown",
      "metadata": {
        "id": "wZSSF_b-IXrX",
        "colab_type": "text"
      },
      "source": [
        "h/w #27"
      ]
    },
    {
      "cell_type": "code",
      "metadata": {
        "id": "-_TyICJaIaUH",
        "colab_type": "code",
        "outputId": "5573c7ec-7c9b-4d0c-89a5-8bcd473f5e80",
        "colab": {
          "base_uri": "https://localhost:8080/",
          "height": 87
        }
      },
      "source": [
        "\n",
        "def order(*x):\n",
        "  x = int(input(\"x = \"))\n",
        "  if x != 0:\n",
        "    order(x)\n",
        "    return print(x, end = \" \")\n",
        "\n",
        "order()\n"
      ],
      "execution_count": 0,
      "outputs": [
        {
          "output_type": "stream",
          "text": [
            "x = 1\n",
            "x = 2\n",
            "x = 0\n",
            "2 1 "
          ],
          "name": "stdout"
        }
      ]
    },
    {
      "cell_type": "markdown",
      "metadata": {
        "id": "e3ob69iC6TTa",
        "colab_type": "text"
      },
      "source": [
        "h/w 28"
      ]
    },
    {
      "cell_type": "code",
      "metadata": {
        "colab_type": "code",
        "outputId": "69477d98-4b9a-4e7d-de9c-a3f031bfaed4",
        "id": "1oMIhhSU8bpg",
        "colab": {
          "base_uri": "https://localhost:8080/",
          "height": 121
        }
      },
      "source": [
        "n = int(input(\"n=\"))\n",
        "m = int(input(\"m=\"))\n",
        "\n",
        "a1 = [[0]*n for i in range(m)]\n",
        "a2 = [[0]*m for i in range(n)]\n",
        "x = 1\n",
        "l1 = []\n",
        "\n",
        "while x != n*m+1:\n",
        "    for j in range(m):\n",
        "      for i in range(n):\n",
        "        a1[j][i] = x\n",
        "        x = x+1\n",
        "        l1.append(a1[j][i])\n",
        "        \n",
        "print(a1)\n",
        "print(l1)\n",
        "\n",
        "l1.reverse()\n",
        "l2 = l1\n",
        "print(l2)\n",
        "\n",
        "for i in range(n):\n",
        "  for j in range(m):\n",
        "    a2[i][j] = l2.pop(0)\n",
        "\n",
        "print(a2)\n"
      ],
      "execution_count": 0,
      "outputs": [
        {
          "output_type": "stream",
          "text": [
            "n=2\n",
            "m=3\n",
            "[[1, 2], [3, 4], [5, 6]]\n",
            "[1, 2, 3, 4, 5, 6]\n",
            "[6, 5, 4, 3, 2, 1]\n",
            "[[6, 5, 4], [3, 2, 1]]\n"
          ],
          "name": "stdout"
        }
      ]
    },
    {
      "cell_type": "markdown",
      "metadata": {
        "id": "Mwsf-rveYXxC",
        "colab_type": "text"
      },
      "source": [
        "h/w 29"
      ]
    },
    {
      "cell_type": "code",
      "metadata": {
        "id": "_XVn1UrxYe7d",
        "colab_type": "code",
        "outputId": "df941784-6f04-493e-d60e-3aa99da66a32",
        "colab": {
          "base_uri": "https://localhost:8080/",
          "height": 104
        }
      },
      "source": [
        "n = int(input(\"n=\"))\n",
        "m = round(n/2)\n",
        "a = [[0]*n for i in range(n)]\n",
        "a2 = [[0,1]*(m)] \n",
        "a1 = [[1,0]*(m) ]\n",
        "\n",
        "for i in range(n):\n",
        "  if i%2==0:\n",
        "    a[i] = a1[0]\n",
        "  else:\n",
        "    a[i] = a2[0]\n",
        "\n",
        "for row in a:\n",
        "  print(' '.join([str(elem) for elem in row]))\n",
        "\n"
      ],
      "execution_count": 0,
      "outputs": [
        {
          "output_type": "stream",
          "text": [
            "n=4\n",
            "1 0 1 0\n",
            "0 1 0 1\n",
            "1 0 1 0\n",
            "0 1 0 1\n"
          ],
          "name": "stdout"
        }
      ]
    },
    {
      "cell_type": "markdown",
      "metadata": {
        "id": "8F-QwrLesD3D",
        "colab_type": "text"
      },
      "source": [
        "h/w 30"
      ]
    },
    {
      "cell_type": "code",
      "metadata": {
        "id": "0bjHB29JsHdw",
        "colab_type": "code",
        "outputId": "0954301a-8e5a-42bd-fb9f-6e1f03ec35d6",
        "colab": {
          "base_uri": "https://localhost:8080/",
          "height": 272
        }
      },
      "source": [
        "n = int(input(\"n=\"))\n",
        "a = [[0]*n for i in range(n)]\n",
        "for i in range(n):\n",
        "  for j in range(n):\n",
        "    a[i][j] = int(input(\"element = \"))\n",
        "\n",
        "for row in a:\n",
        "  print(' '.join([str(elem) for elem in row]))\n",
        "\n",
        "sum_black = 0\n",
        "sum_white = 0\n",
        "\n",
        "for j in range(0,n,2):\n",
        "  for i in range(0,n,2):\n",
        "    sum_black+=a[j][i] \n",
        "  for i in range(1, n, 2):\n",
        "    sum_white += a[j][i]\n",
        "\n",
        "for j in range(1,n,2):\n",
        "  for i in range(0,n,2):\n",
        "    sum_white += a[j][i]\n",
        "  for i in range(1, n, 2):\n",
        "    sum_black+=a[j][i] \n",
        "\n",
        "print(\"sum of black tiles =\", sum_black)\n",
        "print(\"sum of white tiles =\", sum_white)"
      ],
      "execution_count": 0,
      "outputs": [
        {
          "output_type": "stream",
          "text": [
            "n=3\n",
            "element = 9\n",
            "element = 1\n",
            "element = 0\n",
            "element = 2\n",
            "element = 2\n",
            "element = 1\n",
            "element = 4\n",
            "element = 5\n",
            "element = 0\n",
            "9 1 0\n",
            "2 2 1\n",
            "4 5 0\n",
            "sum of black tiles = 15\n",
            "sum of white tiles = 9\n"
          ],
          "name": "stdout"
        }
      ]
    },
    {
      "cell_type": "code",
      "metadata": {
        "id": "HTAWXMIOwrK3",
        "colab_type": "code",
        "colab": {}
      },
      "source": [
        "#easier solution\n",
        "for j in range(n):\n",
        "  for i in range(n):\n",
        "    if (i+j)%2:\n",
        "       sum_white+=a[j][i]\n",
        "     else:\n",
        "       sum_black += a[j][i]"
      ],
      "execution_count": 0,
      "outputs": []
    }
  ]
}