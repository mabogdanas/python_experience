h/w №26

def palindrome(s):
  if s[0] == s[-1]:
    res = 'this is a palindrome'
  else:
    res = 'this is not a palindrome'
    return print(res)
  if len(s) <= 2:
    return print(res)
  return palindrome(s[1:-1])

s = "absba"
palindrome(s)

d = "asdfg"
palindrome(d)

f = "12321"
palindrome(f)

h/w #27


def order(*x):
  x = int(input("x = "))
  if x != 0:
    order(x)
    return print(x, end = " ")

order()


h/w 28

n = int(input("n="))
m = int(input("m="))

a1 = [[0]*n for i in range(m)]
a2 = [[0]*m for i in range(n)]
x = 1
l1 = []

while x != n*m+1:
    for j in range(m):
      for i in range(n):
        a1[j][i] = x
        x = x+1
        l1.append(a1[j][i])
        
print(a1)
print(l1)

l1.reverse()
l2 = l1
print(l2)

for i in range(n):
  for j in range(m):
    a2[i][j] = l2.pop(0)

print(a2)


h/w 29

n = int(input("n="))
m = round(n/2)
a = [[0]*n for i in range(n)]
a2 = [[0,1]*(m)] 
a1 = [[1,0]*(m) ]

for i in range(n):
  if i%2==0:
    a[i] = a1[0]
  else:
    a[i] = a2[0]

for row in a:
  print(' '.join([str(elem) for elem in row]))



h/w 30

n = int(input("n="))
a = [[0]*n for i in range(n)]
for i in range(n):
  for j in range(n):
    a[i][j] = int(input("element = "))

for row in a:
  print(' '.join([str(elem) for elem in row]))

sum_black = 0
sum_white = 0

for j in range(0,n,2):
  for i in range(0,n,2):
    sum_black+=a[j][i] 
  for i in range(1, n, 2):
    sum_white += a[j][i]

for j in range(1,n,2):
  for i in range(0,n,2):
    sum_white += a[j][i]
  for i in range(1, n, 2):
    sum_black+=a[j][i] 

print("sum of black tiles =", sum_black)
print("sum of white tiles =", sum_white)

#easier solution
for j in range(n):
  for i in range(n):
    if (i+j)%2:
       sum_white+=a[j][i]
     else:
       sum_black += a[j][i]
