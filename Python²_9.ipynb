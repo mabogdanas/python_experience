{
  "nbformat": 4,
  "nbformat_minor": 0,
  "metadata": {
    "colab": {
      "name": "Python²_9.ipynb",
      "provenance": [],
      "authorship_tag": "ABX9TyMhfvxbC3ernM+nr6baoSvT"
    },
    "kernelspec": {
      "name": "python3",
      "display_name": "Python 3"
    }
  },
  "cells": [
    {
      "cell_type": "code",
      "metadata": {
        "id": "gROUBMaYr9Yu",
        "colab_type": "code",
        "outputId": "96e62c86-c056-4dde-9a78-deb2166ec392",
        "colab": {
          "base_uri": "https://localhost:8080/",
          "height": 119
        }
      },
      "source": [
        "A = dict(zip('abcdef', list(range(6))))\n",
        "\n",
        "for key, val in A.items():\n",
        "  print(key, val)"
      ],
      "execution_count": 0,
      "outputs": [
        {
          "output_type": "stream",
          "text": [
            "a 0\n",
            "b 1\n",
            "c 2\n",
            "d 3\n",
            "e 4\n",
            "f 5\n"
          ],
          "name": "stdout"
        }
      ]
    },
    {
      "cell_type": "markdown",
      "metadata": {
        "id": "kGkMIOXtuy2Z",
        "colab_type": "text"
      },
      "source": [
        "Получить от пользователя список чисел. Составить словарь, в котором будут храниться все уникальные числа из этого списка и количество их повторений в списке."
      ]
    },
    {
      "cell_type": "code",
      "metadata": {
        "id": "Kx2UscOvu127",
        "colab_type": "code",
        "outputId": "549fb80a-5e61-4ad9-f1d4-b7fc7e790b70",
        "colab": {
          "base_uri": "https://localhost:8080/",
          "height": 119
        }
      },
      "source": [
        "s = input(\"Enter a string of numbers:\").split()\n",
        "for i in range(len(s)):\n",
        "  s[i] = int(s[i])\n",
        "\n",
        "d = {}\n",
        "\n",
        "\n",
        "for number in s:\n",
        "  if number not in d:\n",
        "    d[number] = 1\n",
        "  else:\n",
        "    d[number] = d.get(number) + 1\n",
        "\n",
        "  \n",
        "for key, val in d.items():\n",
        "  print(key, val)\n"
      ],
      "execution_count": 0,
      "outputs": [
        {
          "output_type": "stream",
          "text": [
            "Enter a string of numbers:1 2 3 2 4 5 1 2 3 2 3 1 1 1 \n",
            "1 5\n",
            "2 4\n",
            "3 3\n",
            "4 1\n",
            "5 1\n"
          ],
          "name": "stdout"
        }
      ]
    },
    {
      "cell_type": "markdown",
      "metadata": {
        "id": "lSqxSl8Sov_u",
        "colab_type": "text"
      },
      "source": [
        "h/w 36"
      ]
    },
    {
      "cell_type": "code",
      "metadata": {
        "id": "w4RIVotuo0yj",
        "colab_type": "code",
        "outputId": "3e38e3b8-271e-4328-a445-210529bc0ff7",
        "colab": {
          "base_uri": "https://localhost:8080/",
          "height": 102
        }
      },
      "source": [
        "diary = {}\n",
        "\n",
        "key = input(\"Enter the name: \")\n",
        "while key != \"end\":\n",
        "  val = input(\"Enter the marks: \")\n",
        "  diary[key] = val\n",
        "  key = input(\"Enter the name: \")\n",
        "\n",
        "name = input(\"The marks of \")\n",
        "if name in diary:\n",
        "  print(diary[name])\n",
        "else:\n",
        "  print(\"Not found\")"
      ],
      "execution_count": 0,
      "outputs": [
        {
          "output_type": "stream",
          "text": [
            "Enter the name: Сидоров\n",
            "Enter the marks: 4 5 5 3 4\n",
            "Enter the name: end\n",
            "The marks of Sofya\n",
            "Not found\n"
          ],
          "name": "stdout"
        }
      ]
    },
    {
      "cell_type": "markdown",
      "metadata": {
        "id": "7M95sARPwXaN",
        "colab_type": "text"
      },
      "source": [
        "h/w 37"
      ]
    },
    {
      "cell_type": "code",
      "metadata": {
        "id": "GvLS52C6wbkK",
        "colab_type": "code",
        "outputId": "df69ce3e-e683-4db0-92b4-b94f628f9b54",
        "colab": {
          "base_uri": "https://localhost:8080/",
          "height": 51
        }
      },
      "source": [
        "def dictionary(N, **angl): \n",
        "  latin= {} \n",
        "  for key in angl.keys(): \n",
        "    val = angl[key] \n",
        "    l = val.split() \n",
        "  for word in l: \n",
        "    if word not in latin: \n",
        "      latin[word] = key \n",
        "    else: \n",
        "      latin[word] = latin.get(word) + \", \" + key \n",
        "  for key in sorted(latin): \n",
        "    print(key, latin[key]) \n",
        "\n",
        "dictionary(3, apple = \"malum, pomum, popula\", fruit = \"baca, bacca, popum\", punishment = \" malum, multa\")"
      ],
      "execution_count": 0,
      "outputs": [
        {
          "output_type": "stream",
          "text": [
            "malum, punishment\n",
            "multa punishment\n"
          ],
          "name": "stdout"
        }
      ]
    },
    {
      "cell_type": "markdown",
      "metadata": {
        "id": "UcOpN0W4_p5z",
        "colab_type": "text"
      },
      "source": [
        "h/w 38"
      ]
    },
    {
      "cell_type": "code",
      "metadata": {
        "id": "-PnoeRht_tS_",
        "colab_type": "code",
        "outputId": "2297bcfe-c808-46ed-9714-7812ce41dbcd",
        "colab": {
          "base_uri": "https://localhost:8080/",
          "height": 187
        }
      },
      "source": [
        "l1 = input(\"Enter the 1st price list:\").split()\n",
        "l2 = input(\"Enter the 2nd price list:\").split()\n",
        "l3 = input(\"Enter the 3d price list:\").split()\n",
        "l = l1 + l2 + l3\n",
        "p_l = {}\n",
        "\n",
        "for i in range(0, len(l), 2):\n",
        "  if l[i] not in p_l or p_l[l[i]]<l[i+1]:\n",
        "    p_l[l[i]] = l[i+1]\n",
        "\n",
        "\n",
        "for key in sorted(p_l):\n",
        "  print(key, p_l[key])\n",
        "\n"
      ],
      "execution_count": 0,
      "outputs": [
        {
          "output_type": "stream",
          "text": [
            "Enter the 1st price list:томаты 130 яблоки 120 киви 210 вишня 175\n",
            "Enter the 2nd price list:вишня 190 картофель 35 томаты 110 капуста 23\n",
            "Enter the 3d price list:киви 185 томаты 155 алыча 245 яблоки 130\n",
            "алыча 245\n",
            "вишня 190\n",
            "капуста 23\n",
            "картофель 35\n",
            "киви 210\n",
            "томаты 155\n",
            "яблоки 130\n"
          ],
          "name": "stdout"
        }
      ]
    },
    {
      "cell_type": "markdown",
      "metadata": {
        "id": "WwZL0RUbJAGW",
        "colab_type": "text"
      },
      "source": [
        "h/w 39"
      ]
    },
    {
      "cell_type": "code",
      "metadata": {
        "id": "Oia3mGpyJB5z",
        "colab_type": "code",
        "outputId": "d5fbc652-bdab-4fe3-fbdd-7b8f06a94cc9",
        "colab": {
          "base_uri": "https://localhost:8080/",
          "height": 51
        }
      },
      "source": [
        "n = input(\"Enter whatever you want:\").split()\n",
        "try:\n",
        "  for i in range(len(n)):\n",
        "    n[i] = int(n[i])\n",
        "  for i in range(10):\n",
        "    n[i] += n[i+1] \n",
        "  n[0]/0\n",
        "except ValueError:\n",
        "  print(\"You entered not only numbers\")\n",
        "\n",
        "except ZeroDivisionError:\n",
        "  print(\"It's infinity in limit\")\n",
        "\n",
        "except IndexError:\n",
        "  print(\"Whoopse-doopse\")"
      ],
      "execution_count": 0,
      "outputs": [
        {
          "output_type": "stream",
          "text": [
            "Enter whatever you want:0 1 2 3 4 5 6 7 8 9\n",
            "Whoopse-doopse\n"
          ],
          "name": "stdout"
        }
      ]
    },
    {
      "cell_type": "markdown",
      "metadata": {
        "id": "Y8zlWa6wEkuR",
        "colab_type": "text"
      },
      "source": [
        "h/w 40"
      ]
    },
    {
      "cell_type": "code",
      "metadata": {
        "id": "pqdjw4D1EmeT",
        "colab_type": "code",
        "outputId": "10463fc3-dd10-494b-a6e1-f9e32c8bbf6a",
        "colab": {
          "base_uri": "https://localhost:8080/",
          "height": 51
        }
      },
      "source": [
        "n = input(\"Enter 2 symbols:\").split()\n",
        "\n",
        "try:\n",
        "  for i in range(len(n)):\n",
        "    n[i] = float(n[i])\n",
        "  print(n[0]+n[1])\n",
        "except:\n",
        "  print(n[0]+n[1])\n"
      ],
      "execution_count": 0,
      "outputs": [
        {
          "output_type": "stream",
          "text": [
            "Enter 2 symbols:a 9\n",
            "a9\n"
          ],
          "name": "stdout"
        }
      ]
    }
  ]
}