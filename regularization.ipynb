{
  "nbformat": 4,
  "nbformat_minor": 0,
  "metadata": {
    "anaconda-cloud": {},
    "kernelspec": {
      "display_name": "Python 3",
      "language": "python",
      "name": "python3"
    },
    "language_info": {
      "codemirror_mode": {
        "name": "ipython",
        "version": 3
      },
      "file_extension": ".py",
      "mimetype": "text/x-python",
      "name": "python",
      "nbconvert_exporter": "python",
      "pygments_lexer": "ipython3",
      "version": "3.6.5"
    },
    "colab": {
      "name": "regularization.ipynb",
      "provenance": [],
      "collapsed_sections": []
    }
  },
  "cells": [
    {
      "cell_type": "markdown",
      "metadata": {
        "id": "7wTrqjiBG3Ku",
        "colab_type": "text"
      },
      "source": [
        "Посмотрим, как регуляризация влияет на качество классификации на наборе данных по тестированию микрочипов из курса Andrew Ng по машинному обучению. \n",
        "Будем использовать логистическую регрессию с полиномиальными признаками и варьировать параметр регуляризации C.\n",
        "Сначала посмотрим, как регуляризация влияет на разделяющую границу классификатора, интуитивно распознаем переобучение и недообучение.\n",
        "Потом численно установим близкий к оптимальному параметр регуляризации с помощью кросс-валидации (`cross-validation`) и  перебора по сетке (`GridSearch`). "
      ]
    },
    {
      "cell_type": "code",
      "metadata": {
        "id": "kFVOCn3SG3Kw",
        "colab_type": "code",
        "colab": {}
      },
      "source": [
        "from __future__ import division, print_function\n",
        "# отключим всякие предупреждения Anaconda\n",
        "import warnings\n",
        "warnings.filterwarnings('ignore')\n",
        "%matplotlib inline\n",
        "from matplotlib import pyplot as plt\n",
        "import seaborn as sns\n",
        "\n",
        "import numpy as np\n",
        "import pandas as pd\n",
        "from sklearn.preprocessing import PolynomialFeatures\n",
        "from sklearn.linear_model import LogisticRegression, LogisticRegressionCV\n",
        "from sklearn.model_selection import cross_val_score, StratifiedKFold\n",
        "from sklearn.model_selection import GridSearchCV"
      ],
      "execution_count": 0,
      "outputs": []
    },
    {
      "cell_type": "markdown",
      "metadata": {
        "id": "c-fk9PZUG3K1",
        "colab_type": "text"
      },
      "source": [
        "Загружаем данные с помощью метода `read_csv` библиотеки `pandas`. В этом наборе данных для 118 микрочипов (объекты) указаны результаты двух тестов по контролю качества (два числовых признака) и сказано, пустили ли микрочип в производство. Признаки уже центрированы, то есть из всех значений вычтены средние по столбцам. Таким образом, \"среднему\" микрочипу соответствуют нулевые значения результатов тестов.  "
      ]
    },
    {
      "cell_type": "code",
      "metadata": {
        "id": "OmfwxbIpG3K2",
        "colab_type": "code",
        "outputId": "02147930-757a-4950-b2b0-bb31f239deba",
        "colab": {
          "base_uri": "https://localhost:8080/",
          "height": 153
        }
      },
      "source": [
        "# загрузка данных\n",
        "data = pd.read_csv('https://raw.githubusercontent.com/Yorko/mlcourse.ai/master/data/microchip_tests.txt',\n",
        "                   header=None, names = ('test1','test2','released'))\n",
        "# информация о наборе данных\n",
        "data.info()"
      ],
      "execution_count": 0,
      "outputs": [
        {
          "output_type": "stream",
          "text": [
            "<class 'pandas.core.frame.DataFrame'>\n",
            "RangeIndex: 118 entries, 0 to 117\n",
            "Data columns (total 3 columns):\n",
            "test1       118 non-null float64\n",
            "test2       118 non-null float64\n",
            "released    118 non-null int64\n",
            "dtypes: float64(2), int64(1)\n",
            "memory usage: 2.9 KB\n"
          ],
          "name": "stdout"
        }
      ]
    },
    {
      "cell_type": "markdown",
      "metadata": {
        "id": "oRXXZYyHG3K7",
        "colab_type": "text"
      },
      "source": [
        "Посмотрим на первые и последние 5 строк."
      ]
    },
    {
      "cell_type": "code",
      "metadata": {
        "id": "VdQjYIdLG3K8",
        "colab_type": "code",
        "outputId": "ff1e2be3-6ca3-4598-8066-49e2eb640f38",
        "colab": {
          "base_uri": "https://localhost:8080/",
          "height": 204
        }
      },
      "source": [
        "data.head(5)"
      ],
      "execution_count": 0,
      "outputs": [
        {
          "output_type": "execute_result",
          "data": {
            "text/html": [
              "<div>\n",
              "<style scoped>\n",
              "    .dataframe tbody tr th:only-of-type {\n",
              "        vertical-align: middle;\n",
              "    }\n",
              "\n",
              "    .dataframe tbody tr th {\n",
              "        vertical-align: top;\n",
              "    }\n",
              "\n",
              "    .dataframe thead th {\n",
              "        text-align: right;\n",
              "    }\n",
              "</style>\n",
              "<table border=\"1\" class=\"dataframe\">\n",
              "  <thead>\n",
              "    <tr style=\"text-align: right;\">\n",
              "      <th></th>\n",
              "      <th>test1</th>\n",
              "      <th>test2</th>\n",
              "      <th>released</th>\n",
              "    </tr>\n",
              "  </thead>\n",
              "  <tbody>\n",
              "    <tr>\n",
              "      <th>0</th>\n",
              "      <td>0.051267</td>\n",
              "      <td>0.69956</td>\n",
              "      <td>1</td>\n",
              "    </tr>\n",
              "    <tr>\n",
              "      <th>1</th>\n",
              "      <td>-0.092742</td>\n",
              "      <td>0.68494</td>\n",
              "      <td>1</td>\n",
              "    </tr>\n",
              "    <tr>\n",
              "      <th>2</th>\n",
              "      <td>-0.213710</td>\n",
              "      <td>0.69225</td>\n",
              "      <td>1</td>\n",
              "    </tr>\n",
              "    <tr>\n",
              "      <th>3</th>\n",
              "      <td>-0.375000</td>\n",
              "      <td>0.50219</td>\n",
              "      <td>1</td>\n",
              "    </tr>\n",
              "    <tr>\n",
              "      <th>4</th>\n",
              "      <td>-0.513250</td>\n",
              "      <td>0.46564</td>\n",
              "      <td>1</td>\n",
              "    </tr>\n",
              "  </tbody>\n",
              "</table>\n",
              "</div>"
            ],
            "text/plain": [
              "      test1    test2  released\n",
              "0  0.051267  0.69956         1\n",
              "1 -0.092742  0.68494         1\n",
              "2 -0.213710  0.69225         1\n",
              "3 -0.375000  0.50219         1\n",
              "4 -0.513250  0.46564         1"
            ]
          },
          "metadata": {
            "tags": []
          },
          "execution_count": 3
        }
      ]
    },
    {
      "cell_type": "code",
      "metadata": {
        "id": "261c4yolG3K_",
        "colab_type": "code",
        "outputId": "a3723faf-9d07-46a9-8a44-c9bd66d782df",
        "colab": {
          "base_uri": "https://localhost:8080/",
          "height": 204
        }
      },
      "source": [
        "data.tail(5)"
      ],
      "execution_count": 0,
      "outputs": [
        {
          "output_type": "execute_result",
          "data": {
            "text/html": [
              "<div>\n",
              "<style scoped>\n",
              "    .dataframe tbody tr th:only-of-type {\n",
              "        vertical-align: middle;\n",
              "    }\n",
              "\n",
              "    .dataframe tbody tr th {\n",
              "        vertical-align: top;\n",
              "    }\n",
              "\n",
              "    .dataframe thead th {\n",
              "        text-align: right;\n",
              "    }\n",
              "</style>\n",
              "<table border=\"1\" class=\"dataframe\">\n",
              "  <thead>\n",
              "    <tr style=\"text-align: right;\">\n",
              "      <th></th>\n",
              "      <th>test1</th>\n",
              "      <th>test2</th>\n",
              "      <th>released</th>\n",
              "    </tr>\n",
              "  </thead>\n",
              "  <tbody>\n",
              "    <tr>\n",
              "      <th>113</th>\n",
              "      <td>-0.720620</td>\n",
              "      <td>0.538740</td>\n",
              "      <td>0</td>\n",
              "    </tr>\n",
              "    <tr>\n",
              "      <th>114</th>\n",
              "      <td>-0.593890</td>\n",
              "      <td>0.494880</td>\n",
              "      <td>0</td>\n",
              "    </tr>\n",
              "    <tr>\n",
              "      <th>115</th>\n",
              "      <td>-0.484450</td>\n",
              "      <td>0.999270</td>\n",
              "      <td>0</td>\n",
              "    </tr>\n",
              "    <tr>\n",
              "      <th>116</th>\n",
              "      <td>-0.006336</td>\n",
              "      <td>0.999270</td>\n",
              "      <td>0</td>\n",
              "    </tr>\n",
              "    <tr>\n",
              "      <th>117</th>\n",
              "      <td>0.632650</td>\n",
              "      <td>-0.030612</td>\n",
              "      <td>0</td>\n",
              "    </tr>\n",
              "  </tbody>\n",
              "</table>\n",
              "</div>"
            ],
            "text/plain": [
              "        test1     test2  released\n",
              "113 -0.720620  0.538740         0\n",
              "114 -0.593890  0.494880         0\n",
              "115 -0.484450  0.999270         0\n",
              "116 -0.006336  0.999270         0\n",
              "117  0.632650 -0.030612         0"
            ]
          },
          "metadata": {
            "tags": []
          },
          "execution_count": 4
        }
      ]
    },
    {
      "cell_type": "markdown",
      "metadata": {
        "id": "p4gfkGnBG3LC",
        "colab_type": "text"
      },
      "source": [
        "Сохраним обучающую выборку и метки целевого класса в отдельных массивах NumPy."
      ]
    },
    {
      "cell_type": "code",
      "metadata": {
        "id": "BzfgyoAyG3LD",
        "colab_type": "code",
        "colab": {}
      },
      "source": [
        "X = data.ix[:,:2].values\n",
        "y = data.ix[:,2].values"
      ],
      "execution_count": 0,
      "outputs": []
    },
    {
      "cell_type": "markdown",
      "metadata": {
        "id": "HXJrl0PJG3LG",
        "colab_type": "text"
      },
      "source": [
        "Отобразим данные. Красный цвет соответствует бракованным чипам, зеленый – нормальным.  "
      ]
    },
    {
      "cell_type": "code",
      "metadata": {
        "id": "lVRkT3HkG3LH",
        "colab_type": "code",
        "outputId": "37117e3b-bbe8-485b-b8d5-f600c7d954bb",
        "colab": {
          "base_uri": "https://localhost:8080/",
          "height": 295
        }
      },
      "source": [
        "plt.scatter(X[y == 1, 0], X[y == 1, 1], c='green', label='Выпущен')\n",
        "plt.scatter(X[y == 0, 0], X[y == 0, 1], c='red', label='Бракован')\n",
        "plt.xlabel(\"Тест 1\")\n",
        "plt.ylabel(\"Тест 2\")\n",
        "plt.title('2 теста микрочипов')\n",
        "plt.legend();"
      ],
      "execution_count": 0,
      "outputs": [
        {
          "output_type": "display_data",
          "data": {
            "image/png": "[encoded data removed]",
            "text/plain": [
              "<Figure size 432x288 with 1 Axes>"
            ]
          },
          "metadata": {
            "tags": []
          }
        }
      ]
    },
    {
      "cell_type": "markdown",
      "metadata": {
        "id": "n0P3iUitG3LL",
        "colab_type": "text"
      },
      "source": [
        "Определяем функцию для отображения разделяющей кривой классификатора"
      ]
    },
    {
      "cell_type": "code",
      "metadata": {
        "id": "Tu34QjADG3LL",
        "colab_type": "code",
        "colab": {}
      },
      "source": [
        "def plot_boundary(clf, X, y, grid_step=.01, poly_featurizer=None):\n",
        "    x_min, x_max = X[:, 0].min() - .1, X[:, 0].max() + .1\n",
        "    y_min, y_max = X[:, 1].min() - .1, X[:, 1].max() + .1\n",
        "    xx, yy = np.meshgrid(np.arange(x_min, x_max, grid_step),\n",
        "                         np.arange(y_min, y_max, grid_step))\n",
        "\n",
        "\n",
        "    # каждой точке в сетке [x_min, m_max]x[y_min, y_max]\n",
        "    # ставим в соответствие свой цвет\n",
        "    Z = clf.predict(poly_featurizer.transform(np.c_[xx.ravel(), yy.ravel()]))\n",
        "    Z = Z.reshape(xx.shape)\n",
        "    plt.contour(xx, yy, Z, cmap=plt.cm.Paired)"
      ],
      "execution_count": 0,
      "outputs": []
    },
    {
      "cell_type": "markdown",
      "metadata": {
        "id": "Gp6C-TwJG3LO",
        "colab_type": "text"
      },
      "source": [
        "Полиномиальными признаками до степени $d$ для двух переменных $x_1$ и $x_2$ мы называем следующие:\n",
        "\n",
        "$$\\large \\{x_1^d, x_1^{d-1}x_2, \\ldots x_2^d\\} =  \\{x_1^ix_2^j\\}_{i+j=d, i,j \\in \\mathbb{N}}$$\n",
        "\n",
        "Например, для $d=3$ это будут следующие признаки:\n",
        "\n",
        "$$\\large 1, x_1, x_2,  x_1^2, x_1x_2, x_2^2, x_1^3, x_1^2x_2, x_1x_2^2, x_2^3$$\n",
        "\n",
        "Нарисовав треугольник Пифагора, Вы сообразите, сколько таких признаков будет для $d=4,5...$ и вообще для любого $d$.\n",
        "Попросту говоря, таких признаков экспоненциально много, и строить, скажем, для 100 признаков полиномиальные степени 10 может оказаться затратно (а более того, и не нужно). \n"
      ]
    },
    {
      "cell_type": "markdown",
      "metadata": {
        "id": "mdhAjofHG3LP",
        "colab_type": "text"
      },
      "source": [
        "Создадим объект `sklearn`, который добавит в матрицу $X$ полиномиальные признаки вплоть до степени 7."
      ]
    },
    {
      "cell_type": "code",
      "metadata": {
        "id": "-5KKnYaSG3LQ",
        "colab_type": "code",
        "colab": {}
      },
      "source": [
        "poly = PolynomialFeatures(degree=7)\n",
        "X_poly = poly.fit_transform(X)"
      ],
      "execution_count": 0,
      "outputs": []
    },
    {
      "cell_type": "code",
      "metadata": {
        "id": "G5yqrU2qG3LT",
        "colab_type": "code",
        "outputId": "f8e91c70-0e8b-41e1-cf09-0f7f4966dbf4",
        "colab": {
          "base_uri": "https://localhost:8080/",
          "height": 34
        }
      },
      "source": [
        "X_poly.shape"
      ],
      "execution_count": 0,
      "outputs": [
        {
          "output_type": "execute_result",
          "data": {
            "text/plain": [
              "(118, 36)"
            ]
          },
          "metadata": {
            "tags": []
          },
          "execution_count": 6
        }
      ]
    },
    {
      "cell_type": "markdown",
      "metadata": {
        "id": "_uygaOvlG3LW",
        "colab_type": "text"
      },
      "source": [
        "Обучим логистическую регрессию с параметром регуляризации $C = 10^{-2}$. Изобразим разделяющую границу.\n",
        "Также проверим долю правильных ответов классификатора на обучающей выборке. Видим, что регуляризация оказалась \n",
        "слишком сильной, и модель \"недообучилась\"."
      ]
    },
    {
      "cell_type": "code",
      "metadata": {
        "id": "m_pliRXsG3LX",
        "colab_type": "code",
        "outputId": "3d9a5fb4-975e-4a58-e79a-35b70a8ffd32",
        "colab": {
          "base_uri": "https://localhost:8080/",
          "height": 312
        }
      },
      "source": [
        "C = 1e-2\n",
        "logit = LogisticRegression(C=C, n_jobs=-1, random_state=17)\n",
        "logit.fit(X_poly, y)\n",
        "\n",
        "plot_boundary(logit, X, y, grid_step=.01, poly_featurizer=poly)\n",
        "\n",
        "plt.scatter(X[y == 1, 0], X[y == 1, 1], c='green', label='Выпущен')\n",
        "plt.scatter(X[y == 0, 0], X[y == 0, 1], c='red', label='Бракован')\n",
        "plt.xlabel(\"Тест 1\")\n",
        "plt.ylabel(\"Тест 2\")\n",
        "plt.title('2 теста микрочипов. Логит с C=0.01')\n",
        "plt.legend();\n",
        "\n",
        "print(\"Доля правильных ответов классификатора на обучающей выборке:\", \n",
        "      round(logit.score(X_poly, y), 3))"
      ],
      "execution_count": 0,
      "outputs": [
        {
          "output_type": "stream",
          "text": [
            "Доля правильных ответов классификатора на обучающей выборке: 0.627\n"
          ],
          "name": "stdout"
        },
        {
          "output_type": "display_data",
          "data": {
            "image/png": "[encoded data removed]",
            "text/plain": [
              "<Figure size 432x288 with 1 Axes>"
            ]
          },
          "metadata": {
            "tags": []
          }
        }
      ]
    },
    {
      "cell_type": "markdown",
      "metadata": {
        "id": "7iafY6EyG3La",
        "colab_type": "text"
      },
      "source": [
        "Увеличим $C$ до 1. Тем самым мы *ослабляем* регуляризацию, теперь в решении значния весов логистической регрессии могут оказаться больше (по модулю), чем в прошлом случае. "
      ]
    },
    {
      "cell_type": "code",
      "metadata": {
        "id": "Tgv1NZI-G3Lb",
        "colab_type": "code",
        "outputId": "1f01e1df-c11e-4ec5-fab5-be388ed4408b",
        "colab": {
          "base_uri": "https://localhost:8080/",
          "height": 312
        }
      },
      "source": [
        "C = 1\n",
        "logit = LogisticRegression(C=C, n_jobs=-1, random_state=17)\n",
        "logit.fit(X_poly, y)\n",
        "\n",
        "plot_boundary(logit, X, y, grid_step=.005, poly_featurizer=poly)\n",
        "\n",
        "plt.scatter(X[y == 1, 0], X[y == 1, 1], c='green', label='Выпущен')\n",
        "plt.scatter(X[y == 0, 0], X[y == 0, 1], c='red', label='Бракован')\n",
        "plt.xlabel(\"Тест 1\")\n",
        "plt.ylabel(\"Тест 2\")\n",
        "plt.title('2 теста микрочипов. Логит с C=1')\n",
        "plt.legend();\n",
        "\n",
        "print(\"Доля правильных ответов классификатора на обучающей выборке:\", \n",
        "      round(logit.score(X_poly, y), 3))"
      ],
      "execution_count": 0,
      "outputs": [
        {
          "output_type": "stream",
          "text": [
            "Доля правильных ответов классификатора на обучающей выборке: 0.831\n"
          ],
          "name": "stdout"
        },
        {
          "output_type": "display_data",
          "data": {
            "image/png": "[encoded data removed]",
            "text/plain": [
              "<Figure size 432x288 with 1 Axes>"
            ]
          },
          "metadata": {
            "tags": []
          }
        }
      ]
    },
    {
      "cell_type": "markdown",
      "metadata": {
        "id": "PzuBfw-YG3Le",
        "colab_type": "text"
      },
      "source": [
        "Еще увеличим $C$ – до 10 тысяч. Теперь регуляризации явно недостаточно, и мы наблюдаем переобучение. Можно заметить, что в прошлом случае (при $C$=1 и \"гладкой\" границе) доля правильных ответов модели на обучающей выборке не намного ниже, чем в 3 случае, зато на новой выборке, можно себе представить, 2 модель сработает намного лучше. "
      ]
    },
    {
      "cell_type": "code",
      "metadata": {
        "id": "SBfXKCPoG3Lf",
        "colab_type": "code",
        "outputId": "adb1bf39-afed-4a75-fd1f-39fb5de46715",
        "colab": {
          "base_uri": "https://localhost:8080/",
          "height": 312
        }
      },
      "source": [
        "C = 1e4\n",
        "logit = LogisticRegression(C=C, n_jobs=-1, random_state=17)\n",
        "logit.fit(X_poly, y)\n",
        "\n",
        "plot_boundary(logit, X, y, grid_step=.005, poly_featurizer=poly)\n",
        "\n",
        "plt.scatter(X[y == 1, 0], X[y == 1, 1], c='green', label='Выпущен')\n",
        "plt.scatter(X[y == 0, 0], X[y == 0, 1], c='red', label='Бракован')\n",
        "plt.xlabel(\"Тест 1\")\n",
        "plt.ylabel(\"Тест 2\")\n",
        "plt.title('2 теста микрочипов. Логит с C=10k')\n",
        "plt.legend();\n",
        "\n",
        "print(\"Доля правильных ответов классификатора на обучающей выборке:\", \n",
        "      round(logit.score(X_poly, y), 3))"
      ],
      "execution_count": 0,
      "outputs": [
        {
          "output_type": "stream",
          "text": [
            "Доля правильных ответов классификатора на обучающей выборке: 0.873\n"
          ],
          "name": "stdout"
        },
        {
          "output_type": "display_data",
          "data": {
            "image/png": "[encoded data removed]",
            "text/plain": [
              "<Figure size 432x288 with 1 Axes>"
            ]
          },
          "metadata": {
            "tags": []
          }
        }
      ]
    },
    {
      "cell_type": "markdown",
      "metadata": {
        "id": "k0NNdn1kG3Li",
        "colab_type": "text"
      },
      "source": [
        "Чтоб обсудить результаты, перепишем формулу для функционала, который оптимизируется в логистической регрессии, в таком виде:\n",
        "$$J(X,y,w) = \\mathcal{L} + \\frac{1}{C}||w||^2,$$\n",
        "\n",
        "где\n",
        " - $\\mathcal{L}$ – логистическая функция потерь, просуммированная по всей выборке\n",
        " - $C$ – обратный коэффициент регуляризации (тот самый $C$ в `sklearn`-реализации `LogisticRegression`)"
      ]
    },
    {
      "cell_type": "markdown",
      "metadata": {
        "id": "3vD3WFjiG3Lj",
        "colab_type": "text"
      },
      "source": [
        "**Промежуточные выводы**:\n",
        " - чем больше параметр $C$, тем более сложные зависимости в данных может восстанавливать модель (интуитивно $C$ соответствует \"сложности\" модели (model capacity))\n",
        " - если регуляризация слишком сильная (малые значения $C$), то решением задачи минимизации логистической функции потерь может оказаться то, когда многие веса занулились или стали слишком малыми. Еще говорят, что модель недостаточно \"штрафуется\" за ошибки (то есть в функционале $J$ \"перевешивает\" сумма квадратов весов, а ошибка $\\mathcal{L}$ может быть относительно большой). В таком случае модель окажется *недообученной* (1 случай)\n",
        " - наоборот, если регуляризация слишком слабая (большие значения $C$), то решением задачи оптимизации может стать вектор $w$ с большими по модулю  компонентами. В таком случае больший вклад в оптимизируемый функционал $J$ имеет  $\\mathcal{L}$ и, вольно выражаясь, модель слишком \"боится\" ошибиться на объектах обучающей выборки, поэтому окажется *переобученной* (3 случай)\n",
        " - то, какое значение $C$ выбрать, сама логистическая регрессия \"не поймет\" (или еще говорят \"не выучит\"), то есть это не может быть определено решением оптимизационной задачи, которой является логистическая регрессия (в отличие от весов $w$). Так же точно, дерево решений не может \"само понять\", какое ограничение на глубину выбрать (за один процесс обучения). Поэтому $C$ – это *гиперпараметр* модели, который настраивается на кросс-валидации, как и *max_depth* для дерева."
      ]
    },
    {
      "cell_type": "markdown",
      "metadata": {
        "id": "JUfbfoQSG3Lk",
        "colab_type": "text"
      },
      "source": [
        "**Настройка параметра регуляризации**"
      ]
    },
    {
      "cell_type": "markdown",
      "metadata": {
        "id": "YwHnvbiAG3Ll",
        "colab_type": "text"
      },
      "source": [
        "Теперь найдем оптимальное (в данном примере) значение параметра регуляризации $C$. Сделать это можно с помощью `LogisticRegressionCV` – перебора параметров по сетке с последующей кросс-валидацией. Этот класс создан специально для логистической регрессии (для нее известны эффективные алгоритмы перебора параметров), для произвольной модели мы бы использовали `GridSearchCV`, `RandomizedSearchCV` или, например, специальные алгоритмы оптимизации гиперпараметров, реализованные в `hyperopt`."
      ]
    },
    {
      "cell_type": "code",
      "metadata": {
        "id": "ChhyCy_3G3Lm",
        "colab_type": "code",
        "outputId": "ca52c07b-1ef3-4232-e8e9-c384e59e77cb",
        "colab": {
          "base_uri": "https://localhost:8080/",
          "height": 289
        }
      },
      "source": [
        "skf = StratifiedKFold(n_splits=5, shuffle=True, random_state=17)\n",
        "\n",
        "c_values = np.logspace(-2, 3, 500)\n",
        "\n",
        "logit_searcher = LogisticRegressionCV(Cs=c_values, cv=skf, verbose=1, n_jobs=-1)\n",
        "logit_searcher.fit(X_poly, y)"
      ],
      "execution_count": 0,
      "outputs": [
        {
          "output_type": "stream",
          "text": [
            "[Parallel(n_jobs=-1)]: Using backend LokyBackend with 2 concurrent workers.\n",
            "[Parallel(n_jobs=-1)]: Done   5 out of   5 | elapsed:   13.9s finished\n"
          ],
          "name": "stderr"
        },
        {
          "output_type": "execute_result",
          "data": {
            "text/plain": [
              "LogisticRegressionCV(Cs=array([1.00000000e-02, 1.02334021e-02, 1.04722519e-02, 1.07166765e-02,\n",
              "       1.09668060e-02, 1.12227736e-02, 1.14847155e-02, 1.17527712e-02,\n",
              "       1.20270833e-02, 1.23077980e-02, 1.25950646e-02, 1.28890361e-02,\n",
              "       1.31898690e-02, 1.34977233e-02, 1.38127630e-02, 1.41351558e-02,\n",
              "       1.44650734e-02, 1.48026913e-02, 1.51481892e-02, 1.55017512e-02,\n",
              "       1.58635653e-02, 1.62...\n",
              "       8.50863158e+02, 8.70722485e+02, 8.91045332e+02, 9.11842520e+02,\n",
              "       9.33125118e+02, 9.54904456e+02, 9.77192128e+02, 1.00000000e+03]),\n",
              "                     class_weight=None,\n",
              "                     cv=StratifiedKFold(n_splits=5, random_state=17, shuffle=True),\n",
              "                     dual=False, fit_intercept=True, intercept_scaling=1.0,\n",
              "                     l1_ratios=None, max_iter=100, multi_class='warn',\n",
              "                     n_jobs=-1, penalty='l2', random_state=None, refit=True,\n",
              "                     scoring=None, solver='lbfgs', tol=0.0001, verbose=1)"
            ]
          },
          "metadata": {
            "tags": []
          },
          "execution_count": 13
        }
      ]
    },
    {
      "cell_type": "code",
      "metadata": {
        "id": "fxiSbcDeG3Lp",
        "colab_type": "code",
        "outputId": "80926222-d16b-4499-a2c7-e05be609fbc6",
        "colab": {
          "base_uri": "https://localhost:8080/",
          "height": 34
        }
      },
      "source": [
        "logit_searcher.C_"
      ],
      "execution_count": 0,
      "outputs": [
        {
          "output_type": "execute_result",
          "data": {
            "text/plain": [
              "array([5.43839743])"
            ]
          },
          "metadata": {
            "tags": []
          },
          "execution_count": 14
        }
      ]
    },
    {
      "cell_type": "markdown",
      "metadata": {
        "id": "h2gLGXo_G3Ls",
        "colab_type": "text"
      },
      "source": [
        "Посмотрим, как качество модели (доля правильных ответов на обучающей и валидационной выборках) меняется при изменении гиперпараметра $C$. "
      ]
    },
    {
      "cell_type": "code",
      "metadata": {
        "id": "kLQO0SAeG3Lt",
        "colab_type": "code",
        "outputId": "616db4ba-0939-4625-a65b-a183d5de2329",
        "colab": {
          "base_uri": "https://localhost:8080/",
          "height": 283
        }
      },
      "source": [
        "plt.plot(c_values, np.mean(logit_searcher.scores_[1], axis=0))\n",
        "plt.xlabel('C')\n",
        "plt.ylabel('Mean CV-accuracy');"
      ],
      "execution_count": 0,
      "outputs": [
        {
          "output_type": "display_data",
          "data": {
            "image/png": "[encoded data removed]",
            "text/plain": [
              "<Figure size 432x288 with 1 Axes>"
            ]
          },
          "metadata": {
            "tags": []
          }
        }
      ]
    },
    {
      "cell_type": "markdown",
      "metadata": {
        "id": "RCfTkBs5G3Lw",
        "colab_type": "text"
      },
      "source": [
        "Выделим участок с \"лучшими\" значениями C."
      ]
    },
    {
      "cell_type": "code",
      "metadata": {
        "id": "vQgITaUvG3Lx",
        "colab_type": "code",
        "outputId": "8a7b27a0-e62a-45bc-aa2f-6824220ffb86",
        "colab": {
          "base_uri": "https://localhost:8080/",
          "height": 283
        }
      },
      "source": [
        "plt.plot(c_values, np.mean(logit_searcher.scores_[1], axis=0))\n",
        "plt.xlabel('C')\n",
        "plt.ylabel('Mean CV-accuracy');\n",
        "plt.xlim((0,10));"
      ],
      "execution_count": 0,
      "outputs": [
        {
          "output_type": "display_data",
          "data": {
            "image/png": "[encoded data removed]",
            "text/plain": [
              "<Figure size 432x288 with 1 Axes>"
            ]
          },
          "metadata": {
            "tags": []
          }
        }
      ]
    },
    {
      "cell_type": "markdown",
      "metadata": {
        "id": "NR8drmy_G3L3",
        "colab_type": "text"
      },
      "source": [
        "Такие кривые называются *валидационными*."
      ]
    },
    {
      "cell_type": "code",
      "metadata": {
        "id": "4xXbo11H3tnL",
        "colab_type": "code",
        "outputId": "1092c2f3-a1ba-4a8a-94ac-d904592cd9b4",
        "colab": {
          "base_uri": "https://localhost:8080/",
          "height": 312
        }
      },
      "source": [
        "C = 5.43839743\n",
        "logit = LogisticRegression(C=C, n_jobs=-1, random_state=17)\n",
        "logit.fit(X_poly, y)\n",
        "\n",
        "plot_boundary(logit, X, y, grid_step=.005, poly_featurizer=poly)\n",
        "\n",
        "plt.scatter(X[y == 1, 0], X[y == 1, 1], c='green', label='Выпущен')\n",
        "plt.scatter(X[y == 0, 0], X[y == 0, 1], c='red', label='Бракован')\n",
        "plt.xlabel(\"Тест 1\")\n",
        "plt.ylabel(\"Тест 2\")\n",
        "plt.title('2 теста микрочипов. Логит с C=5.43839743')\n",
        "plt.legend();\n",
        "\n",
        "print(\"Доля правильных ответов классификатора на обучающей выборке:\", \n",
        "      round(logit.score(X_poly, y), 3))"
      ],
      "execution_count": 0,
      "outputs": [
        {
          "output_type": "stream",
          "text": [
            "Доля правильных ответов классификатора на обучающей выборке: 0.831\n"
          ],
          "name": "stdout"
        },
        {
          "output_type": "display_data",
          "data": {
            "image/png": "[encoded data removed]",
            "text/plain": [
              "<Figure size 432x288 with 1 Axes>"
            ]
          },
          "metadata": {
            "tags": []
          }
        }
      ]
    }
  ]
}